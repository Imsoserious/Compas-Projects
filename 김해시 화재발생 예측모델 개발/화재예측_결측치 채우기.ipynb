{
 "cells": [
  {
   "cell_type": "code",
   "execution_count": 1,
   "metadata": {},
   "outputs": [
    {
     "data": {
      "text/plain": [
       "19"
      ]
     },
     "execution_count": 1,
     "metadata": {},
     "output_type": "execute_result"
    }
   ],
   "source": [
    "import gc\n",
    "gc.collect()"
   ]
  },
  {
   "cell_type": "code",
   "execution_count": 834,
   "metadata": {},
   "outputs": [],
   "source": [
    "import pandas as pd\n",
    "import numpy as np\n",
    "import matplotlib.pyplot as plt\n",
    "import lightgbm as lgb\n",
    "import seaborn as sns\n",
    "from sklearn.cluster import DBSCAN\n",
    "from sklearn.tree import DecisionTreeClassifier\n",
    "\n",
    "from sklearn.metrics.cluster import adjusted_rand_score\n",
    "from sklearn.metrics.cluster import silhouette_score\n",
    "from matplotlib import font_manager, rc\n",
    "\n",
    "plt.rc('font', family='AppleGothic') # 한글출력\n",
    "plt.rcParams['axes.unicode_minus'] = False # 축 -표시\n",
    "\n",
    "font_name = font_manager.FontProperties(fname=\"c:/Windows/Fonts/malgun.ttf\").get_name()\n",
    "rc('font', family=font_name)"
   ]
  },
  {
   "cell_type": "code",
   "execution_count": 857,
   "metadata": {},
   "outputs": [],
   "source": [
    "train = pd.read_csv('./train_pre2.csv')\n",
    "test = pd.read_csv('./test_pre2.csv')\n",
    "valid = pd.read_csv('./valid_pre2.csv')"
   ]
  },
  {
   "cell_type": "code",
   "execution_count": 859,
   "metadata": {
    "scrolled": true
   },
   "outputs": [
    {
     "name": "stderr",
     "output_type": "stream",
     "text": [
      "C:\\Users\\samsung\\Anaconda3\\lib\\site-packages\\ipykernel_launcher.py:2: FutureWarning: Sorting because non-concatenation axis is not aligned. A future version\n",
      "of pandas will change to not sort by default.\n",
      "\n",
      "To accept the future behavior, pass 'sort=False'.\n",
      "\n",
      "To retain the current behavior and silence the warning, pass 'sort=True'.\n",
      "\n",
      "  \n"
     ]
    },
    {
     "data": {
      "text/plain": [
       "((59199, 191), (69054, 191))"
      ]
     },
     "execution_count": 859,
     "metadata": {},
     "output_type": "execute_result"
    }
   ],
   "source": [
    "# 결측 채우기 위해 모두 병합\n",
    "all_df = pd.concat([train,valid,test],axis=0)\n",
    "train.shape,all_df.shape"
   ]
  },
  {
   "cell_type": "code",
   "execution_count": 838,
   "metadata": {},
   "outputs": [
    {
     "ename": "ValueError",
     "evalue": "list.remove(x): x not in list",
     "output_type": "error",
     "traceback": [
      "\u001b[1;31m---------------------------------------------------------------------------\u001b[0m",
      "\u001b[1;31mValueError\u001b[0m                                Traceback (most recent call last)",
      "\u001b[1;32m<ipython-input-838-51d56e13b4a2>\u001b[0m in \u001b[0;36m<module>\u001b[1;34m\u001b[0m\n\u001b[0;32m     13\u001b[0m         \u001b[0mcate_col\u001b[0m\u001b[1;33m.\u001b[0m\u001b[0mappend\u001b[0m\u001b[1;33m(\u001b[0m\u001b[0mcol\u001b[0m\u001b[1;33m)\u001b[0m\u001b[1;33m\u001b[0m\u001b[1;33m\u001b[0m\u001b[0m\n\u001b[0;32m     14\u001b[0m \u001b[0mcate_col\u001b[0m \u001b[1;33m=\u001b[0m \u001b[0mcate_col\u001b[0m \u001b[1;33m+\u001b[0m \u001b[1;33m[\u001b[0m\u001b[1;34m'wnd_drctn'\u001b[0m\u001b[1;33m]\u001b[0m\u001b[1;33m\u001b[0m\u001b[1;33m\u001b[0m\u001b[0m\n\u001b[1;32m---> 15\u001b[1;33m \u001b[0mcate_col\u001b[0m\u001b[1;33m.\u001b[0m\u001b[0mremove\u001b[0m\u001b[1;33m(\u001b[0m\u001b[1;34m'dt_of_athrztn'\u001b[0m\u001b[1;33m)\u001b[0m\u001b[1;33m\u001b[0m\u001b[1;33m\u001b[0m\u001b[0m\n\u001b[0m",
      "\u001b[1;31mValueError\u001b[0m: list.remove(x): x not in list"
     ]
    }
   ],
   "source": [
    "# 적대검증 순위 1군집 컬럼들\n",
    "adv_col = ['ahsm_dstnc', 'hm_cnt', 'bldng_ar_prc', 'no_tbc_zn_dstnc', 'cctv_dstnc', \n",
    " 'sft_emrgnc_bll_dstnc', 'tbc_rtl_str_dstnc', 'fr_sttn_dstnc', \n",
    " 'fr_wthr_fclt_dstnc', 'ttl_ar', 'bldng_ar', 'lnd_ar', \n",
    " 'bldng_cnt_in_50m', 'bldng_cnt', 'ttl_grnd_flr']\n",
    "# \n",
    "input_var = list(set(train.columns) - set(['id','dt_of_fr','fr_yn']))\n",
    "target = ['fr_yn']\n",
    "\n",
    "cate_col = []\n",
    "for col in train[input_var].columns:\n",
    "    if (train[col].dtype == 'object'):\n",
    "        cate_col.append(col)\n",
    "cate_col = cate_col + ['wnd_drctn']\n",
    "cate_col.remove('dt_of_athrztn')"
   ]
  },
  {
   "cell_type": "code",
   "execution_count": 839,
   "metadata": {},
   "outputs": [
    {
     "data": {
      "text/plain": [
       "34601"
      ]
     },
     "execution_count": 839,
     "metadata": {},
     "output_type": "execute_result"
    }
   ],
   "source": [
    "train.loc[train[col].isin(list(set(train[col].unique()) - set(valid[col].unique())))].shape[0]"
   ]
  },
  {
   "cell_type": "code",
   "execution_count": 36,
   "metadata": {},
   "outputs": [
    {
     "name": "stdout",
     "output_type": "stream",
     "text": [
      "jmk : 69  :  {'양'}\n",
      "blk_dngrs_thng_mnfctr_yn : 1  :  {'Y'}\n",
      "trgt_crtr : 33  :  {'연면적 15,000 이상', '콘테이너하우스', '펜션7실이하', '기타(가설건축물분류)', '임시사무실,창고,숙소', '11층이상', '공동주택(주택법시행령제63조제1항각호1에해당)', '주거용비닐하우스', '기타', '견본주택(모델하우스)'}\n",
      "bldng_archtctr : 14  :  {'프리케스트콘크리트구조'}\n",
      "rgnl_ar_nm2 : 81  :  {'근린상업지역', '보전녹지지역', '자연환경보전지역'}\n",
      "bldng_us_clssfctn : 0  :  set()\n",
      "mlt_us_yn : 0  :  set()\n",
      "bldng_us : 63  :  {'교육연구및복지시설', '장례식장', '수련시설', '발전시설', '공공용시설', '판매및영업시설', '시장', '파출소', '운수시설'}\n",
      "us_yn : 0  :  set()\n",
      "rgnl_ar_nm : 1650  :  {'보전녹지지역', '자연환경보전지역', '유통상업지역', '용도미지정', '관리지역', '제1종전용주거지역'}\n",
      "lnd_us_sttn_nm : 41  :  {'유원지', '콘도미니엄', '여객자동차터미널', '발전소', '스키장', '목장용지', '특수기타'}\n",
      "fr_fghtng_fclt_spcl_css_5_yn : 0  :  set()\n",
      "cltrl_hrtg_yn : 1  :  {'Y'}\n",
      "fr_fghtng_fclt_spcl_css_6_yn : 0  :  set()\n",
      "dngrs_thng_yn : 0  :  set()\n",
      "slf_fr_brgd_yn : 0  :  set()\n",
      "rd_sd_nm : 0  :  set()\n",
      "wnd_drctn : 226  :  {nan, 2.0, 36.0, 11.0, 23.0, 29.0}\n"
     ]
    }
   ],
   "source": [
    "# 범주형 변수별, train에만 있는 값들과 해당되는 건물id 개수\n",
    "for col in cate_col:\n",
    "    #print(train.loc[train[col].isin(list(set(train[col].unique()) - set(valid[col].unique())))].shape[0])\n",
    "    print(col,':',train.loc[train[col].isin(list(set(train[col].unique()) - set(valid[col].unique())))].shape[0],' : ',set(train[col].unique()) - set(valid[col].unique()) )"
   ]
  },
  {
   "cell_type": "markdown",
   "metadata": {},
   "source": [
    "- ex) rgnl_ar_nm의 경우, train에만 있는 범주는 {'보전녹지지역', '자연환경보전지역', '유통상업지역', '용도미지정', '관리지역', '제1종전용주거지역'}이고 이 범주에 해당하는 id는 1650개이다."
   ]
  },
  {
   "cell_type": "markdown",
   "metadata": {},
   "source": [
    "## 범주형 변수들 중에 겹치지 않는 값을 통합하는 과정\n",
    "## (+ 결측치 채우는 과정)\n",
    "\n",
    "### (참고자료) 김해도시관리계획(재정비 및 관리지역 세분) 결정(변경) 고시 2008"
   ]
  },
  {
   "cell_type": "markdown",
   "metadata": {},
   "source": [
    "1. jmk : '양'은 양어장이고 test에는 없지만 김해에는 있으므로 추가"
   ]
  },
  {
   "cell_type": "markdown",
   "metadata": {},
   "source": [
    "2. trgt_crtr : \n"
   ]
  },
  {
   "cell_type": "markdown",
   "metadata": {},
   "source": [
    "3. bldng_archtctr : \n",
    "\n",
    "    '프리케스트콘크리트구조':\n",
    "\n",
    "    건축구조물의 주요 Member인 기둥, 보, 슬라브 등의 부재를 안정적인 환경의 PC전용 공장에서 전용 몰드(형틀)에 철근 배근후 콘크리트를 타설하여 제품을 생산하는 방식\n",
    "\n",
    "-> 철근 콘크리트 구조로 변경"
   ]
  },
  {
   "cell_type": "code",
   "execution_count": 26,
   "metadata": {},
   "outputs": [
    {
     "data": {
      "text/plain": [
       "Text(0.5, 1.0, '철근콘크리트구조')"
      ]
     },
     "execution_count": 26,
     "metadata": {},
     "output_type": "execute_result"
    },
    {
     "data": {
      "image/png": "[encoded data removed]",
      "text/plain": [
       "<Figure size 720x360 with 2 Axes>"
      ]
     },
     "metadata": {
      "needs_background": "light"
     },
     "output_type": "display_data"
    }
   ],
   "source": [
    "plt.figure(figsize=(10,5))\n",
    "ax1 = plt.subplot(2,2,1)\n",
    "ax2 = plt.subplot(2,2,2)\n",
    "\n",
    "ax1.hist(train[train['bldng_archtctr']=='프리케스트콘크리트구조']['fr_yn'])\n",
    "ax2.hist(train[train['bldng_archtctr']=='철근콘크리트구조']['fr_yn'])\n",
    "ax1.set_title('프리케스트콘크리트구조')\n",
    "ax2.set_title('철근콘크리트구조')\n"
   ]
  },
  {
   "cell_type": "code",
   "execution_count": 860,
   "metadata": {},
   "outputs": [],
   "source": [
    "train['bldng_archtctr'] = np.where(train['bldng_archtctr']=='프리케스트콘크리트구조', \n",
    "                                   '철근콘크리트구조',train['bldng_archtctr'])\n",
    "valid['bldng_archtctr'] = np.where(valid['bldng_archtctr']=='프리케스트콘크리트구조', \n",
    "                                   '철근콘크리트구조',valid['bldng_archtctr'])\n",
    "test['bldng_archtctr'] = np.where(test['bldng_archtctr']=='프리케스트콘크리트구조', \n",
    "                                   '철근콘크리트구조',test['bldng_archtctr'])"
   ]
  },
  {
   "cell_type": "markdown",
   "metadata": {},
   "source": [
    "4. rgnl_ar_nm2 : {'근린상업지역', '보전녹지지역', '자연환경보전지역'}\n",
    "\n",
    "-> 자연녹지지역은 개발 가능성이 있는 곳\n",
    "\n",
    "-> {'자연환경보전지역'} = 보전관리지역\n",
    "\n",
    "-> 보전녹지지역,근린상업지역은 김해시에 있으므로 그대로 "
   ]
  },
  {
   "cell_type": "code",
   "execution_count": 861,
   "metadata": {},
   "outputs": [],
   "source": [
    "train['rgnl_ar_nm2'] = np.where(train['rgnl_ar_nm2']=='자연환경보전지역', \n",
    "                                   '보전관리지역',train['rgnl_ar_nm2'])\n",
    "valid['rgnl_ar_nm2'] = np.where(valid['rgnl_ar_nm2']=='자연환경보전지역', \n",
    "                                   '보전관리지역',valid['rgnl_ar_nm2'])\n",
    "test['rgnl_ar_nm2'] = np.where(test['rgnl_ar_nm2']=='자연환경보전지역', \n",
    "                                   '보전관리지역',test['rgnl_ar_nm2'])"
   ]
  },
  {
   "cell_type": "markdown",
   "metadata": {},
   "source": [
    "5. rgnl_ar_nm  {'보전녹지지역', '자연환경보전지역', '유통상업지역', '용도미지정', '관리지역', '제1종전용주거지역'}\n",
    "\n",
    "-> {자연환경보전지역} = 보전관리지역\n",
    "\n",
    "-> {제1종전용주거지역}은 가장 유사한 {제1종일반주거지역}으로 변경"
   ]
  },
  {
   "cell_type": "code",
   "execution_count": 862,
   "metadata": {
    "scrolled": true
   },
   "outputs": [],
   "source": [
    "# 제1종전용주거지역은 가장 유사한 제1종일반주거지역으로 변경\n",
    "train['rgnl_ar_nm'] = np.where(train['rgnl_ar_nm']=='제1종전용주거지역', \n",
    "                                   '제1종일반주거지역',train['rgnl_ar_nm'])\n",
    "valid['rgnl_ar_nm'] = np.where(valid['rgnl_ar_nm']=='제1종전용주거지역', \n",
    "                                   '제1종일반주거지역',valid['rgnl_ar_nm'])\n",
    "test['rgnl_ar_nm'] = np.where(test['rgnl_ar_nm']=='제1종전용주거지역', \n",
    "                                   '제1종일반주거지역',test['rgnl_ar_nm'])"
   ]
  },
  {
   "cell_type": "markdown",
   "metadata": {},
   "source": [
    "### 6. bldng_us {'교육연구및복지시설', '장례식장', '수련시설', '발전시설', '공공용시설', '판매및영업시설', '시장', '파출소', '운수시설'}"
   ]
  },
  {
   "cell_type": "code",
   "execution_count": 692,
   "metadata": {},
   "outputs": [
    {
     "data": {
      "text/plain": [
       "array(['단독주택', nan, '공장', '제1종근린생활시설', '제2종근린생활시설', '위험물저장및처리시설',\n",
       "       '교육연구시설', '동.식물 관련시설', '공동주택', '창고시설', '의료시설', '종교시설', '숙박시설',\n",
       "       '방송통신시설', '묘지관련시설', '분뇨.쓰레기처리시설', '위락시설', '노유자시설', '업무시설', '판매시설',\n",
       "       '관광휴게시설', '근린생활시설', '자동차관련시설', '운동시설', '문화및집회시설', '교정및군사시설'],\n",
       "      dtype=object)"
      ]
     },
     "execution_count": 692,
     "metadata": {},
     "output_type": "execute_result"
    }
   ],
   "source": [
    "valid['bldng_us'].unique()"
   ]
  },
  {
   "cell_type": "code",
   "execution_count": 863,
   "metadata": {
    "scrolled": true
   },
   "outputs": [],
   "source": [
    "# 결측 채우기\n",
    "def fill_blgng_us(train, valid, test, all_df):\n",
    "    bld_us_df = all_df.groupby(['lnd_us_sttn_nm','jmk','rgnl_ar_nm','bldng_us']).count()[['dt_of_fr']]\\\n",
    "     / all_df[all_df['bldng_us'].isna()==False].groupby(['lnd_us_sttn_nm','jmk','rgnl_ar_nm']).count()[['dt_of_fr']]\n",
    "    bld_us_df_85 = bld_us_df[bld_us_df['dt_of_fr']>=0.9].reset_index()\n",
    "\n",
    "    all_df['bldng_us2'] = all_df['bldng_us']\n",
    "    for i in range(bld_us_df_85.shape[0]):\n",
    "        all_df['bldng_us2'] = np.where((all_df['lnd_us_sttn_nm']==bld_us_df_85['lnd_us_sttn_nm'].iloc[i]) \n",
    "                 &(all_df['jmk']==bld_us_df_85['jmk'].iloc[i]) &(all_df['rgnl_ar_nm']==bld_us_df_85['rgnl_ar_nm'].iloc[i])\n",
    "                                      & (all_df['bldng_us'].isna()), bld_us_df_85['bldng_us'].iloc[i], all_df['bldng_us2'])\n",
    "    train = pd.merge(train, all_df[['id','bldng_us2']], on='id',how='left')\n",
    "    train['bldng_us'] = train['bldng_us2']\n",
    "    train = train.drop('bldng_us2', axis=1)\n",
    "    \n",
    "    valid = pd.merge(valid, all_df[['id','bldng_us2']], on='id',how='left')\n",
    "    valid['bldng_us'] = valid['bldng_us2']\n",
    "    valid = valid.drop('bldng_us2', axis=1)\n",
    "    test = pd.merge(test, all_df[['id','bldng_us2']], on='id',how='left')\n",
    "    test['bldng_us'] = test['bldng_us2']\n",
    "    test = test.drop('bldng_us2', axis=1)\n",
    "    \n",
    "    del bld_us_df\n",
    "    del bld_us_df_85\n",
    "    del all_df['bldng_us2']\n",
    "    return train, valid, test"
   ]
  },
  {
   "cell_type": "code",
   "execution_count": 864,
   "metadata": {},
   "outputs": [],
   "source": [
    "train,valid,test = fill_blgng_us(train, valid, test, all_df)"
   ]
  },
  {
   "cell_type": "markdown",
   "metadata": {},
   "source": [
    "### 7. bldng_us_clssfctn"
   ]
  },
  {
   "cell_type": "markdown",
   "metadata": {},
   "source": [
    "#### 공동주택이고 아파트일떄 주거용인지 상업용인지 구분하는 모델 생성"
   ]
  },
  {
   "cell_type": "code",
   "execution_count": 789,
   "metadata": {},
   "outputs": [
    {
     "name": "stderr",
     "output_type": "stream",
     "text": [
      "C:\\Users\\samsung\\Anaconda3\\lib\\site-packages\\ipykernel_launcher.py:8: FutureWarning: Sorting because non-concatenation axis is not aligned. A future version\n",
      "of pandas will change to not sort by default.\n",
      "\n",
      "To accept the future behavior, pass 'sort=False'.\n",
      "\n",
      "To retain the current behavior and silence the warning, pass 'sort=True'.\n",
      "\n",
      "  \n"
     ]
    },
    {
     "data": {
      "application/vnd.jupyter.widget-view+json": {
       "model_id": "4881da959d9544ae95cc16a31770dd86",
       "version_major": 2,
       "version_minor": 0
      },
      "text/plain": [
       "HBox(children=(IntProgress(value=0, max=191), HTML(value='')))"
      ]
     },
     "metadata": {},
     "output_type": "display_data"
    },
    {
     "name": "stderr",
     "output_type": "stream",
     "text": [
      "C:\\Users\\samsung\\Anaconda3\\lib\\site-packages\\ipykernel_launcher.py:26: SettingWithCopyWarning: \n",
      "A value is trying to be set on a copy of a slice from a DataFrame.\n",
      "Try using .loc[row_indexer,col_indexer] = value instead\n",
      "\n",
      "See the caveats in the documentation: http://pandas.pydata.org/pandas-docs/stable/indexing.html#indexing-view-versus-copy\n"
     ]
    },
    {
     "name": "stdout",
     "output_type": "stream",
     "text": [
      "\n"
     ]
    }
   ],
   "source": [
    "from tqdm import tqdm_notebook\n",
    "from sklearn.preprocessing import LabelEncoder\n",
    "\n",
    "train2 = pd.read_csv('./train_pre2.csv')\n",
    "test2 = pd.read_csv('./test_pre2.csv')\n",
    "valid2 = pd.read_csv('./valid_pre2.csv')\n",
    "\n",
    "apart_or_not = pd.concat([train2, valid2, test2], axis=0)\n",
    "apart_or_not= all_df[(all_df['bldng_us']=='공동주택') & (all_df['lnd_us_sttn_nm']=='아파트')]\n",
    "\n",
    "input_var2 = list(set(apart_or_not.columns) - set(['id','dt_of_fr','bldng_us_clssfctn']))\n",
    "\n",
    "cate_col2 = []\n",
    "for col in train2[input_var2].columns:\n",
    "    if (train2[col].dtype == 'object'):\n",
    "        cate_col2.append(col)\n",
    "\n",
    "cate_col2 = cate_col2 + ['month','hour','weekday','wnd_drctn']\n",
    "cate_col2 = list(set(cate_col2) & set(apart_or_not.columns))\n",
    "#cate_col2.remove('bldng_us_clssfctn')\n",
    "\n",
    "for col in tqdm_notebook(apart_or_not.columns): \n",
    "    if col in cate_col2:\n",
    "        le = LabelEncoder()\n",
    "        le.fit(list(apart_or_not[col].astype(str).values))\n",
    "        apart_or_not[col] = le.transform(list(apart_or_not[col].astype(str).values))"
   ]
  },
  {
   "cell_type": "code",
   "execution_count": 787,
   "metadata": {},
   "outputs": [],
   "source": [
    "apart_or_not = pd.get_dummies(apart_or_not, columns=cate_col2)\n",
    "apart_or_not = apart_or_not.fillna(-99)\n",
    "\n",
    "input_var2 = list(set(apart_or_not.columns) - set(['id','dt_of_fr','bldng_us_clssfctn']))\n",
    "target = ['bldng_us_clssfctn']"
   ]
  },
  {
   "cell_type": "code",
   "execution_count": 778,
   "metadata": {},
   "outputs": [],
   "source": [
    "apart_or_not = pd.get_dummies(apart_or_not, columns=cate_col2)\n",
    "apart_or_not = apart_or_not.fillna(-99)\n",
    "\n",
    "input_var2 = list(set(apart_or_not.columns) - set(['id','dt_of_fr','bldng_us_clssfctn']))\n",
    "target = ['bldng_us_clssfctn']\n",
    "\n",
    "X_testt = apart_or_not[apart_or_not['bldng_us_clssfctn']==-99]\n",
    "apart_or_not = apart_or_not[(apart_or_not['bldng_us_clssfctn']!=-99) & (apart_or_not['bldng_us_clssfctn']!='기타')]\n",
    "apart_or_not['bldng_us_clssfctn'] = np.where(apart_or_not['bldng_us_clssfctn']=='주거용', 1,0)\n",
    "\n",
    "X = apart_or_not[input_var2]\n",
    "y = apart_or_not[target]"
   ]
  },
  {
   "cell_type": "code",
   "execution_count": 779,
   "metadata": {},
   "outputs": [
    {
     "name": "stderr",
     "output_type": "stream",
     "text": [
      "C:\\Users\\samsung\\Anaconda3\\lib\\site-packages\\ipykernel_launcher.py:85: DataConversionWarning: A column-vector y was passed when a 1d array was expected. Please change the shape of y to (n_samples,), for example using ravel().\n",
      "C:\\Users\\samsung\\Anaconda3\\lib\\site-packages\\ipykernel_launcher.py:85: DataConversionWarning: A column-vector y was passed when a 1d array was expected. Please change the shape of y to (n_samples,), for example using ravel().\n",
      "C:\\Users\\samsung\\Anaconda3\\lib\\site-packages\\ipykernel_launcher.py:85: DataConversionWarning: A column-vector y was passed when a 1d array was expected. Please change the shape of y to (n_samples,), for example using ravel().\n",
      "C:\\Users\\samsung\\Anaconda3\\lib\\site-packages\\ipykernel_launcher.py:85: DataConversionWarning: A column-vector y was passed when a 1d array was expected. Please change the shape of y to (n_samples,), for example using ravel().\n",
      "C:\\Users\\samsung\\Anaconda3\\lib\\site-packages\\ipykernel_launcher.py:85: DataConversionWarning: A column-vector y was passed when a 1d array was expected. Please change the shape of y to (n_samples,), for example using ravel().\n"
     ]
    },
    {
     "data": {
      "image/png": "[encoded data removed]",
      "text/plain": [
       "<Figure size 1008x720 with 1 Axes>"
      ]
     },
     "metadata": {
      "needs_background": "light"
     },
     "output_type": "display_data"
    },
    {
     "data": {
      "text/html": [
       "<div>\n",
       "<style scoped>\n",
       "    .dataframe tbody tr th:only-of-type {\n",
       "        vertical-align: middle;\n",
       "    }\n",
       "\n",
       "    .dataframe tbody tr th {\n",
       "        vertical-align: top;\n",
       "    }\n",
       "\n",
       "    .dataframe thead th {\n",
       "        text-align: right;\n",
       "    }\n",
       "</style>\n",
       "<table border=\"1\" class=\"dataframe\">\n",
       "  <thead>\n",
       "    <tr style=\"text-align: right;\">\n",
       "      <th></th>\n",
       "      <th>AUC Train</th>\n",
       "      <th>AUC Test</th>\n",
       "    </tr>\n",
       "  </thead>\n",
       "  <tbody>\n",
       "    <tr>\n",
       "      <th>0</th>\n",
       "      <td>0.993685</td>\n",
       "      <td>0.975951</td>\n",
       "    </tr>\n",
       "    <tr>\n",
       "      <th>1</th>\n",
       "      <td>0.996986</td>\n",
       "      <td>0.967562</td>\n",
       "    </tr>\n",
       "    <tr>\n",
       "      <th>2</th>\n",
       "      <td>0.994484</td>\n",
       "      <td>0.914414</td>\n",
       "    </tr>\n",
       "    <tr>\n",
       "      <th>3</th>\n",
       "      <td>0.993624</td>\n",
       "      <td>0.911036</td>\n",
       "    </tr>\n",
       "    <tr>\n",
       "      <th>4</th>\n",
       "      <td>0.996598</td>\n",
       "      <td>0.957002</td>\n",
       "    </tr>\n",
       "  </tbody>\n",
       "</table>\n",
       "</div>"
      ],
      "text/plain": [
       "   AUC Train  AUC Test\n",
       "0   0.993685  0.975951\n",
       "1   0.996986  0.967562\n",
       "2   0.994484  0.914414\n",
       "3   0.993624  0.911036\n",
       "4   0.996598  0.957002"
      ]
     },
     "execution_count": 779,
     "metadata": {},
     "output_type": "execute_result"
    }
   ],
   "source": [
    "from sklearn.ensemble import RandomForestClassifier\n",
    "from sklearn.model_selection import StratifiedKFold\n",
    "from sklearn.metrics import roc_curve, auc\n",
    "# https://www.kaggle.com/ynouri/random-forest-k-fold-cross-validation\n",
    "def plot_roc_curve(fprs, tprs):\n",
    "    \"\"\"Plot the Receiver Operating Characteristic from a list\n",
    "    of true positive rates and false positive rates.\"\"\"\n",
    "    \n",
    "    # Initialize useful lists + the plot axes.\n",
    "    tprs_interp = []\n",
    "    aucs = []\n",
    "    mean_fpr = np.linspace(0, 1, 100)\n",
    "    f, ax = plt.subplots(figsize=(14,10))\n",
    "    \n",
    "    # Plot ROC for each K-Fold + compute AUC scores.\n",
    "    for i, (fpr, tpr) in enumerate(zip(fprs, tprs)):\n",
    "        tprs_interp.append(np.interp(mean_fpr, fpr, tpr))\n",
    "        tprs_interp[-1][0] = 0.0\n",
    "        roc_auc = auc(fpr, tpr)\n",
    "        aucs.append(roc_auc)\n",
    "        ax.plot(fpr, tpr, lw=1, alpha=0.3,\n",
    "                 label='ROC fold %d (AUC = %0.2f)' % (i, roc_auc))\n",
    "        \n",
    "    # Plot the luck line.\n",
    "    plt.plot([0, 1], [0, 1], linestyle='--', lw=2, color='r',\n",
    "             label='Luck', alpha=.8)\n",
    "    \n",
    "    # Plot the mean ROC.\n",
    "    mean_tpr = np.mean(tprs_interp, axis=0)\n",
    "    mean_tpr[-1] = 1.0\n",
    "    mean_auc = auc(mean_fpr, mean_tpr)\n",
    "    std_auc = np.std(aucs)\n",
    "    ax.plot(mean_fpr, mean_tpr, color='b',\n",
    "             label=r'Mean ROC (AUC = %0.2f $\\pm$ %0.2f)' % (mean_auc, std_auc),\n",
    "             lw=2, alpha=.8)\n",
    "    \n",
    "    # Plot the standard deviation around the mean ROC.\n",
    "    std_tpr = np.std(tprs_interp, axis=0)\n",
    "    tprs_upper = np.minimum(mean_tpr + std_tpr, 1)\n",
    "    tprs_lower = np.maximum(mean_tpr - std_tpr, 0)\n",
    "    ax.fill_between(mean_fpr, tprs_lower, tprs_upper, color='grey', alpha=.2,\n",
    "                     label=r'$\\pm$ 1 std. dev.')\n",
    "    \n",
    "    # Fine tune and show the plot.\n",
    "    ax.set_xlim([-0.05, 1.05])\n",
    "    ax.set_ylim([-0.05, 1.05])\n",
    "    ax.set_xlabel('False Positive Rate')\n",
    "    ax.set_ylabel('True Positive Rate')\n",
    "    ax.set_title('Receiver operating characteristic')\n",
    "    ax.legend(loc=\"lower right\")\n",
    "    plt.show()\n",
    "    return (f, ax)\n",
    "\n",
    "def compute_roc_auc(index):\n",
    "    y_predict = clf.predict_proba(X.iloc[index])[:,1]\n",
    "    fpr, tpr, thresholds = roc_curve(y.iloc[index], y_predict)\n",
    "    auc_score = auc(fpr, tpr)\n",
    "    return fpr, tpr, auc_score\n",
    "\n",
    "# 학습\n",
    "clf = RandomForestClassifier(\n",
    "    n_estimators=50,\n",
    "    criterion='gini',\n",
    "    max_depth=5,\n",
    "    min_samples_split=2,\n",
    "    min_samples_leaf=1,\n",
    "    min_weight_fraction_leaf=0.0,\n",
    "    max_features='auto',\n",
    "    max_leaf_nodes=None,\n",
    "    min_impurity_decrease=0.0,\n",
    "    min_impurity_split=None,\n",
    "    bootstrap=True,\n",
    "    oob_score=False,\n",
    "    n_jobs=-1,\n",
    "    random_state=0,\n",
    "    verbose=0,\n",
    "    warm_start=False,\n",
    "    class_weight='balanced'\n",
    ")\n",
    "\n",
    "cv = StratifiedKFold(n_splits=5, shuffle=False)\n",
    "results = pd.DataFrame(columns=['training_score', 'test_score'])\n",
    "fprs, tprs, scores = [], [], []\n",
    "    \n",
    "for (trainn, test), i in zip(cv.split(X, y), range(5)):\n",
    "    clf.fit(X.iloc[trainn], y.iloc[trainn])\n",
    "    _, _, auc_score_train = compute_roc_auc(trainn)\n",
    "    fpr, tpr, auc_score = compute_roc_auc(test)\n",
    "    scores.append((auc_score_train, auc_score))\n",
    "    fprs.append(fpr)\n",
    "    tprs.append(tpr)\n",
    "\n",
    "plot_roc_curve(fprs, tprs);\n",
    "pd.DataFrame(scores, columns=['AUC Train', 'AUC Test'])"
   ]
  },
  {
   "cell_type": "code",
   "execution_count": 780,
   "metadata": {},
   "outputs": [
    {
     "name": "stderr",
     "output_type": "stream",
     "text": [
      "C:\\Users\\samsung\\Anaconda3\\lib\\site-packages\\ipykernel_launcher.py:3: SettingWithCopyWarning: \n",
      "A value is trying to be set on a copy of a slice from a DataFrame.\n",
      "Try using .loc[row_indexer,col_indexer] = value instead\n",
      "\n",
      "See the caveats in the documentation: http://pandas.pydata.org/pandas-docs/stable/indexing.html#indexing-view-versus-copy\n",
      "  This is separate from the ipykernel package so we can avoid doing imports until\n"
     ]
    }
   ],
   "source": [
    "X_testt['bldng_us_clssfctn2'] = clf.predict(X_testt[input_var2])\n",
    "amart_pred =X_testt[['id','bldng_us_clssfctn2']]\n",
    "amart_pred['bldng_us_clssfctn2'] = np.where(amart_pred['bldng_us_clssfctn2']==1, '주거용','상업용')"
   ]
  },
  {
   "cell_type": "code",
   "execution_count": 783,
   "metadata": {},
   "outputs": [
    {
     "data": {
      "text/html": [
       "<div>\n",
       "<style scoped>\n",
       "    .dataframe tbody tr th:only-of-type {\n",
       "        vertical-align: middle;\n",
       "    }\n",
       "\n",
       "    .dataframe tbody tr th {\n",
       "        vertical-align: top;\n",
       "    }\n",
       "\n",
       "    .dataframe thead th {\n",
       "        text-align: right;\n",
       "    }\n",
       "</style>\n",
       "<table border=\"1\" class=\"dataframe\">\n",
       "  <thead>\n",
       "    <tr style=\"text-align: right;\">\n",
       "      <th></th>\n",
       "      <th>id</th>\n",
       "      <th>bldng_us_clssfctn2</th>\n",
       "    </tr>\n",
       "  </thead>\n",
       "  <tbody>\n",
       "    <tr>\n",
       "      <th>24603</th>\n",
       "      <td>108022</td>\n",
       "      <td>주거용</td>\n",
       "    </tr>\n",
       "    <tr>\n",
       "      <th>34703</th>\n",
       "      <td>115455</td>\n",
       "      <td>주거용</td>\n",
       "    </tr>\n",
       "    <tr>\n",
       "      <th>44651</th>\n",
       "      <td>79678</td>\n",
       "      <td>주거용</td>\n",
       "    </tr>\n",
       "    <tr>\n",
       "      <th>3251</th>\n",
       "      <td>103906</td>\n",
       "      <td>주거용</td>\n",
       "    </tr>\n",
       "    <tr>\n",
       "      <th>4026</th>\n",
       "      <td>118060</td>\n",
       "      <td>주거용</td>\n",
       "    </tr>\n",
       "    <tr>\n",
       "      <th>5396</th>\n",
       "      <td>79730</td>\n",
       "      <td>주거용</td>\n",
       "    </tr>\n",
       "    <tr>\n",
       "      <th>2520</th>\n",
       "      <td>102847</td>\n",
       "      <td>주거용</td>\n",
       "    </tr>\n",
       "  </tbody>\n",
       "</table>\n",
       "</div>"
      ],
      "text/plain": [
       "           id bldng_us_clssfctn2\n",
       "24603  108022                주거용\n",
       "34703  115455                주거용\n",
       "44651   79678                주거용\n",
       "3251   103906                주거용\n",
       "4026   118060                주거용\n",
       "5396    79730                주거용\n",
       "2520   102847                주거용"
      ]
     },
     "execution_count": 783,
     "metadata": {},
     "output_type": "execute_result"
    }
   ],
   "source": [
    "amart_pred"
   ]
  },
  {
   "cell_type": "code",
   "execution_count": 781,
   "metadata": {
    "collapsed": true
   },
   "outputs": [
    {
     "ename": "KeyError",
     "evalue": "\"['bldng_us_clssfctn2'] not found in axis\"",
     "output_type": "error",
     "traceback": [
      "\u001b[1;31m---------------------------------------------------------------------------\u001b[0m",
      "\u001b[1;31mKeyError\u001b[0m                                  Traceback (most recent call last)",
      "\u001b[1;32m<ipython-input-781-97d8bc05cfe9>\u001b[0m in \u001b[0;36m<module>\u001b[1;34m\u001b[0m\n\u001b[0;32m      5\u001b[0m \u001b[0mvalid\u001b[0m \u001b[1;33m=\u001b[0m \u001b[0mpd\u001b[0m\u001b[1;33m.\u001b[0m\u001b[0mmerge\u001b[0m\u001b[1;33m(\u001b[0m\u001b[0mvalid\u001b[0m\u001b[1;33m,\u001b[0m \u001b[0mamart_pred\u001b[0m\u001b[1;33m,\u001b[0m \u001b[0mon\u001b[0m\u001b[1;33m=\u001b[0m\u001b[1;34m'id'\u001b[0m\u001b[1;33m,\u001b[0m \u001b[0mhow\u001b[0m\u001b[1;33m=\u001b[0m\u001b[1;34m'left'\u001b[0m\u001b[1;33m)\u001b[0m\u001b[1;33m\u001b[0m\u001b[1;33m\u001b[0m\u001b[0m\n\u001b[0;32m      6\u001b[0m \u001b[0mvalid\u001b[0m\u001b[1;33m[\u001b[0m\u001b[1;34m'bldng_us_clssfctn'\u001b[0m\u001b[1;33m]\u001b[0m \u001b[1;33m=\u001b[0m \u001b[0mnp\u001b[0m\u001b[1;33m.\u001b[0m\u001b[0mwhere\u001b[0m\u001b[1;33m(\u001b[0m\u001b[0mvalid\u001b[0m\u001b[1;33m[\u001b[0m\u001b[1;34m'bldng_us_clssfctn'\u001b[0m\u001b[1;33m]\u001b[0m\u001b[1;33m.\u001b[0m\u001b[0misna\u001b[0m\u001b[1;33m(\u001b[0m\u001b[1;33m)\u001b[0m\u001b[1;33m,\u001b[0m \u001b[0mvalid\u001b[0m\u001b[1;33m[\u001b[0m\u001b[1;34m'bldng_us_clssfctn2'\u001b[0m\u001b[1;33m]\u001b[0m\u001b[1;33m,\u001b[0m\u001b[0mvalid\u001b[0m\u001b[1;33m[\u001b[0m\u001b[1;34m'bldng_us_clssfctn'\u001b[0m\u001b[1;33m]\u001b[0m\u001b[1;33m)\u001b[0m\u001b[1;33m\u001b[0m\u001b[1;33m\u001b[0m\u001b[0m\n\u001b[1;32m----> 7\u001b[1;33m \u001b[0mvalid\u001b[0m \u001b[1;33m=\u001b[0m \u001b[0mtrain\u001b[0m\u001b[1;33m.\u001b[0m\u001b[0mdrop\u001b[0m\u001b[1;33m(\u001b[0m\u001b[1;34m'bldng_us_clssfctn2'\u001b[0m\u001b[1;33m,\u001b[0m \u001b[0maxis\u001b[0m\u001b[1;33m=\u001b[0m\u001b[1;36m1\u001b[0m\u001b[1;33m)\u001b[0m\u001b[1;33m\u001b[0m\u001b[1;33m\u001b[0m\u001b[0m\n\u001b[0m\u001b[0;32m      8\u001b[0m \u001b[1;33m\u001b[0m\u001b[0m\n\u001b[0;32m      9\u001b[0m \u001b[0mtest\u001b[0m \u001b[1;33m=\u001b[0m \u001b[0mpd\u001b[0m\u001b[1;33m.\u001b[0m\u001b[0mmerge\u001b[0m\u001b[1;33m(\u001b[0m\u001b[0mtest\u001b[0m\u001b[1;33m,\u001b[0m \u001b[0mamart_pred\u001b[0m\u001b[1;33m,\u001b[0m \u001b[0mon\u001b[0m\u001b[1;33m=\u001b[0m\u001b[1;34m'id'\u001b[0m\u001b[1;33m,\u001b[0m \u001b[0mhow\u001b[0m\u001b[1;33m=\u001b[0m\u001b[1;34m'left'\u001b[0m\u001b[1;33m)\u001b[0m\u001b[1;33m\u001b[0m\u001b[1;33m\u001b[0m\u001b[0m\n",
      "\u001b[1;32m~\\Anaconda3\\lib\\site-packages\\pandas\\core\\frame.py\u001b[0m in \u001b[0;36mdrop\u001b[1;34m(self, labels, axis, index, columns, level, inplace, errors)\u001b[0m\n\u001b[0;32m   3938\u001b[0m                                            \u001b[0mindex\u001b[0m\u001b[1;33m=\u001b[0m\u001b[0mindex\u001b[0m\u001b[1;33m,\u001b[0m \u001b[0mcolumns\u001b[0m\u001b[1;33m=\u001b[0m\u001b[0mcolumns\u001b[0m\u001b[1;33m,\u001b[0m\u001b[1;33m\u001b[0m\u001b[1;33m\u001b[0m\u001b[0m\n\u001b[0;32m   3939\u001b[0m                                            \u001b[0mlevel\u001b[0m\u001b[1;33m=\u001b[0m\u001b[0mlevel\u001b[0m\u001b[1;33m,\u001b[0m \u001b[0minplace\u001b[0m\u001b[1;33m=\u001b[0m\u001b[0minplace\u001b[0m\u001b[1;33m,\u001b[0m\u001b[1;33m\u001b[0m\u001b[1;33m\u001b[0m\u001b[0m\n\u001b[1;32m-> 3940\u001b[1;33m                                            errors=errors)\n\u001b[0m\u001b[0;32m   3941\u001b[0m \u001b[1;33m\u001b[0m\u001b[0m\n\u001b[0;32m   3942\u001b[0m     @rewrite_axis_style_signature('mapper', [('copy', True),\n",
      "\u001b[1;32m~\\Anaconda3\\lib\\site-packages\\pandas\\core\\generic.py\u001b[0m in \u001b[0;36mdrop\u001b[1;34m(self, labels, axis, index, columns, level, inplace, errors)\u001b[0m\n\u001b[0;32m   3778\u001b[0m         \u001b[1;32mfor\u001b[0m \u001b[0maxis\u001b[0m\u001b[1;33m,\u001b[0m \u001b[0mlabels\u001b[0m \u001b[1;32min\u001b[0m \u001b[0maxes\u001b[0m\u001b[1;33m.\u001b[0m\u001b[0mitems\u001b[0m\u001b[1;33m(\u001b[0m\u001b[1;33m)\u001b[0m\u001b[1;33m:\u001b[0m\u001b[1;33m\u001b[0m\u001b[1;33m\u001b[0m\u001b[0m\n\u001b[0;32m   3779\u001b[0m             \u001b[1;32mif\u001b[0m \u001b[0mlabels\u001b[0m \u001b[1;32mis\u001b[0m \u001b[1;32mnot\u001b[0m \u001b[1;32mNone\u001b[0m\u001b[1;33m:\u001b[0m\u001b[1;33m\u001b[0m\u001b[1;33m\u001b[0m\u001b[0m\n\u001b[1;32m-> 3780\u001b[1;33m                 \u001b[0mobj\u001b[0m \u001b[1;33m=\u001b[0m \u001b[0mobj\u001b[0m\u001b[1;33m.\u001b[0m\u001b[0m_drop_axis\u001b[0m\u001b[1;33m(\u001b[0m\u001b[0mlabels\u001b[0m\u001b[1;33m,\u001b[0m \u001b[0maxis\u001b[0m\u001b[1;33m,\u001b[0m \u001b[0mlevel\u001b[0m\u001b[1;33m=\u001b[0m\u001b[0mlevel\u001b[0m\u001b[1;33m,\u001b[0m \u001b[0merrors\u001b[0m\u001b[1;33m=\u001b[0m\u001b[0merrors\u001b[0m\u001b[1;33m)\u001b[0m\u001b[1;33m\u001b[0m\u001b[1;33m\u001b[0m\u001b[0m\n\u001b[0m\u001b[0;32m   3781\u001b[0m \u001b[1;33m\u001b[0m\u001b[0m\n\u001b[0;32m   3782\u001b[0m         \u001b[1;32mif\u001b[0m \u001b[0minplace\u001b[0m\u001b[1;33m:\u001b[0m\u001b[1;33m\u001b[0m\u001b[1;33m\u001b[0m\u001b[0m\n",
      "\u001b[1;32m~\\Anaconda3\\lib\\site-packages\\pandas\\core\\generic.py\u001b[0m in \u001b[0;36m_drop_axis\u001b[1;34m(self, labels, axis, level, errors)\u001b[0m\n\u001b[0;32m   3810\u001b[0m                 \u001b[0mnew_axis\u001b[0m \u001b[1;33m=\u001b[0m \u001b[0maxis\u001b[0m\u001b[1;33m.\u001b[0m\u001b[0mdrop\u001b[0m\u001b[1;33m(\u001b[0m\u001b[0mlabels\u001b[0m\u001b[1;33m,\u001b[0m \u001b[0mlevel\u001b[0m\u001b[1;33m=\u001b[0m\u001b[0mlevel\u001b[0m\u001b[1;33m,\u001b[0m \u001b[0merrors\u001b[0m\u001b[1;33m=\u001b[0m\u001b[0merrors\u001b[0m\u001b[1;33m)\u001b[0m\u001b[1;33m\u001b[0m\u001b[1;33m\u001b[0m\u001b[0m\n\u001b[0;32m   3811\u001b[0m             \u001b[1;32melse\u001b[0m\u001b[1;33m:\u001b[0m\u001b[1;33m\u001b[0m\u001b[1;33m\u001b[0m\u001b[0m\n\u001b[1;32m-> 3812\u001b[1;33m                 \u001b[0mnew_axis\u001b[0m \u001b[1;33m=\u001b[0m \u001b[0maxis\u001b[0m\u001b[1;33m.\u001b[0m\u001b[0mdrop\u001b[0m\u001b[1;33m(\u001b[0m\u001b[0mlabels\u001b[0m\u001b[1;33m,\u001b[0m \u001b[0merrors\u001b[0m\u001b[1;33m=\u001b[0m\u001b[0merrors\u001b[0m\u001b[1;33m)\u001b[0m\u001b[1;33m\u001b[0m\u001b[1;33m\u001b[0m\u001b[0m\n\u001b[0m\u001b[0;32m   3813\u001b[0m             \u001b[0mresult\u001b[0m \u001b[1;33m=\u001b[0m \u001b[0mself\u001b[0m\u001b[1;33m.\u001b[0m\u001b[0mreindex\u001b[0m\u001b[1;33m(\u001b[0m\u001b[1;33m**\u001b[0m\u001b[1;33m{\u001b[0m\u001b[0maxis_name\u001b[0m\u001b[1;33m:\u001b[0m \u001b[0mnew_axis\u001b[0m\u001b[1;33m}\u001b[0m\u001b[1;33m)\u001b[0m\u001b[1;33m\u001b[0m\u001b[1;33m\u001b[0m\u001b[0m\n\u001b[0;32m   3814\u001b[0m \u001b[1;33m\u001b[0m\u001b[0m\n",
      "\u001b[1;32m~\\Anaconda3\\lib\\site-packages\\pandas\\core\\indexes\\base.py\u001b[0m in \u001b[0;36mdrop\u001b[1;34m(self, labels, errors)\u001b[0m\n\u001b[0;32m   4963\u001b[0m             \u001b[1;32mif\u001b[0m \u001b[0merrors\u001b[0m \u001b[1;33m!=\u001b[0m \u001b[1;34m'ignore'\u001b[0m\u001b[1;33m:\u001b[0m\u001b[1;33m\u001b[0m\u001b[1;33m\u001b[0m\u001b[0m\n\u001b[0;32m   4964\u001b[0m                 raise KeyError(\n\u001b[1;32m-> 4965\u001b[1;33m                     '{} not found in axis'.format(labels[mask]))\n\u001b[0m\u001b[0;32m   4966\u001b[0m             \u001b[0mindexer\u001b[0m \u001b[1;33m=\u001b[0m \u001b[0mindexer\u001b[0m\u001b[1;33m[\u001b[0m\u001b[1;33m~\u001b[0m\u001b[0mmask\u001b[0m\u001b[1;33m]\u001b[0m\u001b[1;33m\u001b[0m\u001b[1;33m\u001b[0m\u001b[0m\n\u001b[0;32m   4967\u001b[0m         \u001b[1;32mreturn\u001b[0m \u001b[0mself\u001b[0m\u001b[1;33m.\u001b[0m\u001b[0mdelete\u001b[0m\u001b[1;33m(\u001b[0m\u001b[0mindexer\u001b[0m\u001b[1;33m)\u001b[0m\u001b[1;33m\u001b[0m\u001b[1;33m\u001b[0m\u001b[0m\n",
      "\u001b[1;31mKeyError\u001b[0m: \"['bldng_us_clssfctn2'] not found in axis\""
     ]
    }
   ],
   "source": [
    "train = pd.merge(train, amart_pred, on='id', how='left')\n",
    "train['bldng_us_clssfctn'] = np.where(train['bldng_us_clssfctn'].isna(), train['bldng_us_clssfctn2'],train['bldng_us_clssfctn'])\n",
    "train = train.drop('bldng_us_clssfctn2', axis=1)\n",
    "\n",
    "valid = pd.merge(valid, amart_pred, on='id', how='left')\n",
    "valid['bldng_us_clssfctn'] = np.where(valid['bldng_us_clssfctn'].isna(), valid['bldng_us_clssfctn2'],valid['bldng_us_clssfctn'])\n",
    "valid = train.drop('bldng_us_clssfctn2', axis=1)\n",
    "\n",
    "test = pd.merge(test, amart_pred, on='id', how='left')\n",
    "test['bldng_us_clssfctn'] = np.where(test['bldng_us_clssfctn'].isna(), test['bldng_us_clssfctn2'],test['bldng_us_clssfctn'])\n",
    "test = test.drop('bldng_us_clssfctn2', axis=1)"
   ]
  },
  {
   "cell_type": "markdown",
   "metadata": {},
   "source": [
    "#### 나머지 결측 처리"
   ]
  },
  {
   "cell_type": "code",
   "execution_count": 865,
   "metadata": {},
   "outputs": [],
   "source": [
    "# 위락시설은 상업용\n",
    "train['bldng_us_clssfctn'] = np.where((train['bldng_us']=='위락시설') & (train['bldng_us_clssfctn'].isna()),\n",
    "                                     '상업용', train['bldng_us_clssfctn'])\n",
    "# 교정및군사시설은 공공용\n",
    "train['bldng_us_clssfctn'] = np.where((train['bldng_us']=='교정및군사시설') & (train['bldng_us_clssfctn'].isna()),\n",
    "                                     '공공용', train['bldng_us_clssfctn'])\n",
    "# 교정및군사시설은 공공용\n",
    "train['bldng_us_clssfctn'] = np.where((train['bldng_us']=='방송통신시설') & (train['bldng_us_clssfctn'].isna()),\n",
    "                                     '상업용', train['bldng_us_clssfctn'])\n",
    "# 창고시설은 공공용\n",
    "train['bldng_us_clssfctn'] = np.where((train['bldng_us']=='창고시설') & (train['bldng_us_clssfctn'].isna()),\n",
    "                                     '기타', train['bldng_us_clssfctn'])\n",
    "# 운동시설은 문교사회용\n",
    "train['bldng_us_clssfctn'] = np.where((train['bldng_us']=='운동시설') & (train['bldng_us_clssfctn'].isna()),\n",
    "                                     '문교사회용', train['bldng_us_clssfctn'])\n",
    "# 종교시설은 문교사회용\n",
    "train['bldng_us_clssfctn'] = np.where((train['bldng_us']=='종교시설') & (train['bldng_us_clssfctn'].isna()),\n",
    "                                     '문교사회용', train['bldng_us_clssfctn'])\n",
    "# 교육연구시설은 문교사회용\n",
    "train['bldng_us_clssfctn'] = np.where((train['bldng_us']=='교육연구시설') & (train['bldng_us_clssfctn'].isna()),\n",
    "                                     '문교사회용', train['bldng_us_clssfctn'])\n",
    "# 노유자시설은 문교사회용\n",
    "train['bldng_us_clssfctn'] = np.where((train['bldng_us']=='노유자시설') & (train['bldng_us_clssfctn'].isna()),\n",
    "                                     '문교사회용', train['bldng_us_clssfctn'])\n",
    "# 숙박시설은 문교사회용\n",
    "train['bldng_us_clssfctn'] = np.where((train['bldng_us']=='숙박시설') & (train['bldng_us_clssfctn'].isna()),\n",
    "                                     '상업용', train['bldng_us_clssfctn'])\n"
   ]
  },
  {
   "cell_type": "code",
   "execution_count": 866,
   "metadata": {
    "scrolled": true
   },
   "outputs": [],
   "source": [
    "# 결측 채우기\n",
    "def fill_bldng_us_clssfctn(train, valid, test, all_df):\n",
    "    bld_us_df = all_df.groupby(['bldng_us','jmk','lnd_us_sttn_nm','bldng_us_clssfctn']).count()[['dt_of_fr']]\\\n",
    "    / all_df[all_df['bldng_us_clssfctn'].isna()==False].groupby(['bldng_us','jmk','lnd_us_sttn_nm']).count()[['dt_of_fr']]\n",
    "    bld_us_df_85 = bld_us_df[bld_us_df['dt_of_fr']>=0.9].reset_index()\n",
    "\n",
    "    all_df['bldng_us_clssfctn2'] = all_df['bldng_us_clssfctn']\n",
    "    for i in range(bld_us_df_85.shape[0]):\n",
    "        all_df['bldng_us_clssfctn2'] = np.where((all_df['lnd_us_sttn_nm']==bld_us_df_85['lnd_us_sttn_nm'].iloc[i]) \n",
    "                 &(all_df['jmk']==bld_us_df_85['jmk'].iloc[i])\n",
    "                 & (all_df['bldng_us_clssfctn'].isna()), bld_us_df_85['bldng_us_clssfctn'].iloc[i], all_df['bldng_us_clssfctn2'])\n",
    "    train = pd.merge(train, all_df[['id','bldng_us_clssfctn2']], on='id',how='left')\n",
    "    train['bldng_us_clssfctn'] = train['bldng_us_clssfctn2']\n",
    "    train = train.drop('bldng_us_clssfctn2', axis=1)\n",
    "    \n",
    "    valid = pd.merge(valid, all_df[['id','bldng_us_clssfctn2']], on='id',how='left')\n",
    "    valid['bldng_us_clssfctn'] = valid['bldng_us_clssfctn2']\n",
    "    valid = valid.drop('bldng_us_clssfctn2', axis=1)\n",
    "    test = pd.merge(test, all_df[['id','bldng_us_clssfctn2']], on='id',how='left')\n",
    "    test['bldng_us_clssfctn'] = test['bldng_us_clssfctn2']\n",
    "    test = test.drop('bldng_us_clssfctn2', axis=1)\n",
    "    \n",
    "    del bld_us_df\n",
    "    del bld_us_df_85\n",
    "    del all_df['bldng_us_clssfctn2']\n",
    "    return train, valid, test"
   ]
  },
  {
   "cell_type": "code",
   "execution_count": 867,
   "metadata": {},
   "outputs": [],
   "source": [
    "train,valid,test = fill_bldng_us_clssfctn(train, valid, test, all_df)"
   ]
  },
  {
   "cell_type": "markdown",
   "metadata": {},
   "source": [
    "### 8. trgt_crtr(소방점검대상물기준)"
   ]
  },
  {
   "cell_type": "code",
   "execution_count": 806,
   "metadata": {},
   "outputs": [
    {
     "data": {
      "text/plain": [
       "60140"
      ]
     },
     "execution_count": 806,
     "metadata": {},
     "output_type": "execute_result"
    }
   ],
   "source": [
    "all_df['trgt_crtr'].isna().sum()"
   ]
  },
  {
   "cell_type": "code",
   "execution_count": 807,
   "metadata": {},
   "outputs": [
    {
     "data": {
      "text/plain": [
       "array([nan, '일반대상물', '스프링클러,물분무등설치대상', '자동화재탐지설치대상', '펜션7실이상', '민박7실이하',\n",
       "       '옥내소화전설치대상', '민박7실이상'], dtype=object)"
      ]
     },
     "execution_count": 807,
     "metadata": {},
     "output_type": "execute_result"
    }
   ],
   "source": [
    "valid['trgt_crtr'].unique()"
   ]
  },
  {
   "cell_type": "code",
   "execution_count": 868,
   "metadata": {},
   "outputs": [],
   "source": [
    "# 헤딩 조건에서 일반건축물인 경우는 83, 2건 뿐\n",
    "train['trgt_crtr'] = np.where((train['lnd_us_sttn_nm']=='단독') & (train['bldng_us']=='단독주택') \n",
    "      & (train['bldng_us_clssfctn']=='주거용') & (train['rgnl_ar_nm']=='제2종일반주거지역'), '단독',train['trgt_crtr'])\n",
    "valid['trgt_crtr'] = np.where((valid['lnd_us_sttn_nm']=='단독') & (valid['bldng_us']=='단독주택') \n",
    "      & (valid['bldng_us_clssfctn']=='주거용') & (valid['rgnl_ar_nm']=='제2종일반주거지역'), '단독',valid['trgt_crtr'])\n",
    "test['trgt_crtr'] = np.where((test['lnd_us_sttn_nm']=='단독') & (test['bldng_us']=='단독주택') \n",
    "      & (test['bldng_us_clssfctn']=='주거용') & (test['rgnl_ar_nm']=='제2종일반주거지역'), '단독',test['trgt_crtr'])"
   ]
  },
  {
   "cell_type": "markdown",
   "metadata": {},
   "source": [
    "### 9. lnd_us_sttn_nm"
   ]
  },
  {
   "cell_type": "code",
   "execution_count": 809,
   "metadata": {},
   "outputs": [
    {
     "data": {
      "text/plain": [
       "2012"
      ]
     },
     "execution_count": 809,
     "metadata": {},
     "output_type": "execute_result"
    }
   ],
   "source": [
    "all_df['lnd_us_sttn_nm'].isna().sum()"
   ]
  },
  {
   "cell_type": "code",
   "execution_count": 869,
   "metadata": {},
   "outputs": [],
   "source": [
    "# 결측 채우기\n",
    "def fill_lnd_us_sttn_nm(train, valid, test, all_df):\n",
    "    bld_us_df = all_df.groupby(['bldng_us','jmk','rgnl_ar_nm','lnd_us_sttn_nm']).count()[['dt_of_fr']]\\\n",
    "    / all_df[all_df['lnd_us_sttn_nm'].isna()==False].groupby(['bldng_us','jmk','rgnl_ar_nm']).count()[['dt_of_fr']]\n",
    "    bld_us_df_85 = bld_us_df[bld_us_df['dt_of_fr']>=0.9].reset_index()\n",
    "\n",
    "    all_df['lnd_us_sttn_nm2'] = all_df['lnd_us_sttn_nm']\n",
    "    for i in range(bld_us_df_85.shape[0]):\n",
    "        all_df['lnd_us_sttn_nm2'] = np.where((all_df['bldng_us']==bld_us_df_85['bldng_us'].iloc[i]) \n",
    "                 &(all_df['jmk']==bld_us_df_85['jmk'].iloc[i]) &(all_df['rgnl_ar_nm']==bld_us_df_85['rgnl_ar_nm'].iloc[i])\n",
    "                 & (all_df['lnd_us_sttn_nm'].isna()), bld_us_df_85['lnd_us_sttn_nm'].iloc[i], all_df['lnd_us_sttn_nm2'])\n",
    "    \n",
    "    train = pd.merge(train, all_df[['id','lnd_us_sttn_nm2']], on='id',how='left')\n",
    "    train['lnd_us_sttn_nm'] = train['lnd_us_sttn_nm2']\n",
    "    train = train.drop('lnd_us_sttn_nm2', axis=1)\n",
    "    \n",
    "    valid = pd.merge(valid, all_df[['id','lnd_us_sttn_nm2']], on='id',how='left')\n",
    "    valid['lnd_us_sttn_nm'] = valid['lnd_us_sttn_nm2']\n",
    "    valid = valid.drop('lnd_us_sttn_nm2', axis=1)\n",
    "    test = pd.merge(test, all_df[['id','lnd_us_sttn_nm2']], on='id',how='left')\n",
    "    test['lnd_us_sttn_nm'] = test['lnd_us_sttn_nm2']\n",
    "    test = test.drop('lnd_us_sttn_nm2', axis=1)\n",
    "    \n",
    "    del bld_us_df\n",
    "    del bld_us_df_85\n",
    "    del all_df['lnd_us_sttn_nm2']\n",
    "    return train, valid, test"
   ]
  },
  {
   "cell_type": "code",
   "execution_count": 870,
   "metadata": {},
   "outputs": [],
   "source": [
    "train,valid,test = fill_lnd_us_sttn_nm(train, valid, test, all_df)"
   ]
  },
  {
   "cell_type": "code",
   "execution_count": 871,
   "metadata": {},
   "outputs": [],
   "source": [
    "train.to_csv('train_pre3.csv', index=False)\n",
    "valid.to_csv('valid_pre3.csv', index=False)\n",
    "test.to_csv('test_pre3.csv', index=False)"
   ]
  },
  {
   "cell_type": "markdown",
   "metadata": {},
   "source": [
    "### 10. bldng_us_clssfctn"
   ]
  },
  {
   "cell_type": "code",
   "execution_count": 175,
   "metadata": {},
   "outputs": [
    {
     "data": {
      "text/plain": [
       "array(['주거용', nan, '상업용', '문교사회용', '공업용', '농수산용', '기타', '공공용'],\n",
       "      dtype=object)"
      ]
     },
     "execution_count": 175,
     "metadata": {},
     "output_type": "execute_result"
    }
   ],
   "source": [
    "train['bldng_us_clssfctn'].unique()"
   ]
  },
  {
   "cell_type": "code",
   "execution_count": null,
   "metadata": {},
   "outputs": [],
   "source": [
    "# (train['lnd_us_sttn_nm']=='공업용') & (train['bldng_us']=='공장' 이면 공업용 97.7%\n",
    "train['bldng_us_clssfctn'] = np.where((train['lnd_us_sttn_nm']=='공업용') & (train['bldng_us']=='공장')\n",
    "                                      & (train['bldng_us_clssfctn'].isna()),\n",
    "                                     '공업용', train['bldng_us_clssfctn'])\n",
    "# (train['rgnl_ar_nm']=='생산관리지역')& (train['bldng_us']=='창고시설')이면 기타 96.5%\n",
    "train['bldng_us_clssfctn'] = np.where((train['rgnl_ar_nm']=='생산관리지역')& (train['bldng_us']=='창고시설')\n",
    "                                       & (train['bldng_us_clssfctn'].isna()),\n",
    "                                     '기타', train['bldng_us_clssfctn'])\n",
    "# 제1,2종근린생활시설은 상업용이 90% 이상\n",
    "train['bldng_us_clssfctn'] = np.where(((train['bldng_us']=='제1종근린생활시설') | (train['bldng_us']=='제2종근린생활시설'))\n",
    "                                      & (train['bldng_us_clssfctn'].isna()),\n",
    "                                     '상업용', train['bldng_us_clssfctn'])\n",
    "# 분뇨.쓰레기 시설은 100% 기타\n",
    "train['bldng_us_clssfctn'] = np.where((train['bldng_us']=='분뇨.쓰레기처리시설') & (train['bldng_us_clssfctn'].isna()),\n",
    "                                     '기타', train['bldng_us_clssfctn'])\n",
    "# 자동차관련시설은 99% 상업용\n",
    "train['bldng_us_clssfctn'] = np.where((train['bldng_us']=='자동차관련시설') & (train['bldng_us_clssfctn'].isna()),\n",
    "                                     '상업용', train['bldng_us_clssfctn'])\n",
    "# 동식물 시설은 jmk=대 제외하면 90% 이상 농수산용\n",
    "train['bldng_us_clssfctn'] = np.where((train['jmk']!='대')& (train['bldng_us']=='동.식물 관련시설')\n",
    "                                       & (train['bldng_us_clssfctn'].isna()),\n",
    "                                     '농수산용', train['bldng_us_clssfctn'])\n",
    "# 업무 시설은 94% 상업용 \n",
    "train['bldng_us_clssfctn'] = np.where((train['bldng_us']=='업무시설')& (train['lnd_us_sttn_nm']!='주거기타')\n",
    "                                       & (train['bldng_us_clssfctn'].isna()),\n",
    "                                     '상업용', train['bldng_us_clssfctn'])\n",
    "train['bldng_us_clssfctn'] = np.where((train['bldng_us']=='업무시설')& (train['lnd_us_sttn_nm']=='주거기타')\n",
    "                                       & (train['bldng_us_clssfctn'].isna()),\n",
    "                                     '공공용', train['bldng_us_clssfctn'])"
   ]
  }
 ],
 "metadata": {
  "kernelspec": {
   "display_name": "Python 3",
   "language": "python",
   "name": "python3"
  },
  "language_info": {
   "codemirror_mode": {
    "name": "ipython",
    "version": 3
   },
   "file_extension": ".py",
   "mimetype": "text/x-python",
   "name": "python",
   "nbconvert_exporter": "python",
   "pygments_lexer": "ipython3",
   "version": "3.7.3"
  }
 },
 "nbformat": 4,
 "nbformat_minor": 2
}

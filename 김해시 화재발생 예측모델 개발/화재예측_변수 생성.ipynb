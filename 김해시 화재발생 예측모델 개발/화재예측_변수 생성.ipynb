{
 "cells": [
  {
   "cell_type": "code",
   "execution_count": 1,
   "metadata": {},
   "outputs": [],
   "source": [
    "import pandas as pd\n",
    "import numpy as np\n",
    "import matplotlib.pyplot as plt\n",
    "\n",
    "import seaborn as sns\n",
    "from tqdm import tqdm_notebook\n",
    "from sklearn.preprocessing import LabelEncoder\n",
    "\n",
    "plt.rc('font', family='AppleGothic') # 한글출력\n",
    "plt.rcParams['axes.unicode_minus'] = False # 축 -표시"
   ]
  },
  {
   "cell_type": "code",
   "execution_count": 3,
   "metadata": {},
   "outputs": [
    {
     "name": "stderr",
     "output_type": "stream",
     "text": [
      "C:\\Users\\samsung\\Anaconda3\\lib\\site-packages\\IPython\\core\\interactiveshell.py:3049: DtypeWarning: Columns (8,172,173,174,175,176,177,178,179) have mixed types. Specify dtype option on import or set low_memory=False.\n",
      "  interactivity=interactivity, compiler=compiler, result=result)\n"
     ]
    }
   ],
   "source": [
    "train = pd.read_csv('./PJT002_train.csv')\n",
    "test = pd.read_csv('./PJT002_test.csv')\n",
    "valid = pd.read_csv('./PJT002_validation.csv')\n",
    "# 유일하게 gas 사용량 음수인 행을 양수로 변경\n",
    "train['gas_engry_us_201507'] = np.abs(train['gas_engry_us_201507'])"
   ]
  },
  {
   "cell_type": "code",
   "execution_count": 4,
   "metadata": {},
   "outputs": [],
   "source": [
    "# 타겟 변수 int형으로 변경\n",
    "train['fr_yn'] = np.where(train['fr_yn']=='Y', 1 ,0) \n",
    "valid['fr_yn'] = np.where(valid['fr_yn']=='Y', 1 ,0)"
   ]
  },
  {
   "cell_type": "code",
   "execution_count": 5,
   "metadata": {},
   "outputs": [],
   "source": [
    "# 강수량 결측은 0으로 변경\n",
    "train['prcpttn'] = train['prcpttn'].fillna(0) \n",
    "valid['prcpttn'] = valid['prcpttn'].fillna(0) \n",
    "test['prcpttn'] = test['prcpttn'].fillna(0) "
   ]
  },
  {
   "cell_type": "code",
   "execution_count": 6,
   "metadata": {},
   "outputs": [],
   "source": [
    "# 향후 변수 생성을 위해 시간 관련 변수들 생성\n",
    "train['dt_of_fr'] = pd.to_datetime(train['dt_of_fr'])\n",
    "train['year'] = train['dt_of_fr'].dt.year\n",
    "train['month'] = train['dt_of_fr'].dt.month\n",
    "train['hour'] = train['dt_of_fr'].dt.hour\n",
    "train['weekday'] = train['dt_of_fr'].dt.weekday\n",
    "\n",
    "\n",
    "valid['dt_of_fr'] = pd.to_datetime(valid['dt_of_fr'])\n",
    "valid['year'] = valid['dt_of_fr'].dt.year\n",
    "valid['month'] = valid['dt_of_fr'].dt.month\n",
    "valid['hour'] = valid['dt_of_fr'].dt.hour\n",
    "valid['weekday'] = valid['dt_of_fr'].dt.weekday\n",
    "\n",
    "test['dt_of_fr'] = pd.to_datetime(test['dt_of_fr'])\n",
    "test['year'] = test['dt_of_fr'].dt.year\n",
    "test['month'] = test['dt_of_fr'].dt.month\n",
    "test['hour'] = test['dt_of_fr'].dt.hour\n",
    "test['weekday'] = test['dt_of_fr'].dt.weekday"
   ]
  },
  {
   "cell_type": "code",
   "execution_count": 7,
   "metadata": {},
   "outputs": [],
   "source": [
    "# 건축연도 변수를 건물연식(오래된 정도, 기간)으로 즉 연속형으로 변경\n",
    "train['dt_of_athrztn'] = train['dt_of_athrztn'].fillna(9999) # 결측치 제거\n",
    "train['dt_of_athrztn'] = train['dt_of_athrztn'].astype('str').str.slice(stop=4).astype('int') # 연도만 추출\n",
    "train['dt_of_athrztn'] = np.where(train['dt_of_athrztn'].astype('str').str.slice(stop=1).astype('int')>1, train['dt_of_athrztn'].astype('str').str.slice(stop=2).astype('int')+1900, train['dt_of_athrztn']) # 4자리 연도 아닌 경우 처리\n",
    "train['dt_of_athrztn'] = 2019 - train['dt_of_athrztn'] # 오래된 정도로 변경\n",
    "train['dt_of_athrztn'] = np.where(train['dt_of_athrztn']==-7980, np.nan, train['dt_of_athrztn']) # 결측 처리\n",
    "\n",
    "valid['dt_of_athrztn'] = valid['dt_of_athrztn'].fillna(9999) # 결측치 제거\n",
    "valid['dt_of_athrztn'] = valid['dt_of_athrztn'].astype('str').str.slice(stop=4).astype('int') # 연도만 추출\n",
    "valid['dt_of_athrztn'] = np.where(valid['dt_of_athrztn'].astype('str').str.slice(stop=1).astype('int')>1, valid['dt_of_athrztn'].astype('str').str.slice(stop=2).astype('int')+1900, valid['dt_of_athrztn']) # 4자리 연도 아닌 경우 처리\n",
    "valid['dt_of_athrztn'] = 2019 - valid['dt_of_athrztn'] # 오래된 정도로 변경\n",
    "valid['dt_of_athrztn'] = np.where(valid['dt_of_athrztn']==-7980, np.nan, valid['dt_of_athrztn']) # 결측 처리\n",
    "\n",
    "test['dt_of_athrztn'] = test['dt_of_athrztn'].fillna(9999) # 결측치 제거\n",
    "test['dt_of_athrztn'] = test['dt_of_athrztn'].astype('str').str.slice(stop=4).astype('int') # 연도만 추출\n",
    "test['dt_of_athrztn'] = np.where(test['dt_of_athrztn'].astype('str').str.slice(stop=1).astype('int')>1, test['dt_of_athrztn'].astype('str').str.slice(stop=2).astype('int')+1900, test['dt_of_athrztn']) # 4자리 연도 아닌 경우 처리\n",
    "test['dt_of_athrztn'] = 2019 - test['dt_of_athrztn'] # 오래된 정도로 변경\n",
    "test['dt_of_athrztn'] = np.where(test['dt_of_athrztn']==-7980, np.nan, test['dt_of_athrztn']) # 결측 처리"
   ]
  },
  {
   "cell_type": "code",
   "execution_count": 8,
   "metadata": {},
   "outputs": [],
   "source": [
    "# emd_nm의 행정단위만 추출해서 변수 생성\n",
    "# emd_nm2: 시, 군 단위\n",
    "# emd_nm3: 읍,면,동 단위\n",
    "train['emd_nm2'] = train['emd_nm'].str.slice(start=5, stop=8).str.slice(start=-1)\n",
    "train['emd_nm3'] = train['emd_nm'].str.slice(start=-1)\n",
    "train['emd_nm3'] = np.where(train['emd_nm3']=='가', '동', train['emd_nm3']) # ~동 ~가는 동으로 변경\n",
    "\n",
    "valid['emd_nm2'] = valid['emd_nm'].str.slice(start=5, stop=8).str.slice(start=-1)\n",
    "valid['emd_nm3'] = valid['emd_nm'].str.slice(start=-1)\n",
    "test['emd_nm2'] = test['emd_nm'].str.slice(start=5, stop=8).str.slice(start=-1)\n",
    "test['emd_nm3'] = test['emd_nm'].str.slice(start=-1)\n",
    "\n",
    "del train['emd_nm']\n",
    "del valid['emd_nm']\n",
    "del test['emd_nm']\n",
    "\n",
    "train = train.drop(['fr_fghtng_fclt_spcl_css_5_yn',\n",
    "                    'slf_fr_brgd_yn','blk_dngrs_thng_mnfctr_yn','fr_mn_cnt'], axis=1)\n",
    "valid = valid.drop(['fr_fghtng_fclt_spcl_css_5_yn','slf_fr_brgd_yn',\n",
    "                    'blk_dngrs_thng_mnfctr_yn','fr_mn_cnt'], axis=1)\n",
    "test = test.drop(['fr_fghtng_fclt_spcl_css_5_yn','slf_fr_brgd_yn',\n",
    "                  'blk_dngrs_thng_mnfctr_yn','fr_mn_cnt'], axis=1)"
   ]
  },
  {
   "cell_type": "code",
   "execution_count": 9,
   "metadata": {},
   "outputs": [],
   "source": [
    "# 가스,전기 컬럼명 리스트\n",
    "gas_col =[]\n",
    "ele_col = []\n",
    "for year in ['2014', '2015','2016','2017','2018']:\n",
    "  for month in range(1,13):\n",
    "    if month <10:\n",
    "      month = '0' + str(month)\n",
    "      period = year + month\n",
    "      gas = 'gas_engry_us_' + period\n",
    "      ele = 'ele_engry_us_' + period\n",
    "      gas_col.append(gas)\n",
    "      ele_col.append(ele)\n",
    "    else:\n",
    "      month = str(month)\n",
    "      period = year + month\n",
    "      gas = 'gas_engry_us_' + period\n",
    "      ele = 'ele_engry_us_' + period\n",
    "      gas_col.append(gas)\n",
    "      ele_col.append(ele)"
   ]
  },
  {
   "cell_type": "code",
   "execution_count": 10,
   "metadata": {},
   "outputs": [],
   "source": [
    "# 에너지 결측\n",
    "train['ele_null']= train[ele_col].isna().sum(axis=1)\n",
    "train['gas_null']= train[gas_col].isna().sum(axis=1)\n",
    "valid['ele_null']= valid[ele_col].isna().sum(axis=1)\n",
    "valid['gas_null']= valid[gas_col].isna().sum(axis=1)\n",
    "test['ele_null']= test[ele_col].isna().sum(axis=1)\n",
    "test['gas_null']= test[gas_col].isna().sum(axis=1)"
   ]
  },
  {
   "cell_type": "code",
   "execution_count": 11,
   "metadata": {},
   "outputs": [],
   "source": [
    "# 가스, 전기 관련 변수의 대푯값 변수 생성\n",
    "def energy_mean(data):\n",
    "    for i in ['01','02','03','04','05','06','07','08','09','10','11','12']:\n",
    "        ele1 = 'ele_engry_us_' + '2014'+ i\n",
    "        ele2 = 'ele_engry_us_' + '2015'+i\n",
    "        ele3 = 'ele_engry_us_' + '2016'+i\n",
    "        ele4 = 'ele_engry_us_' + '2017'+i\n",
    "        ele5 ='ele_engry_us_' + '2018'+ i\n",
    "        \n",
    "        gas1 = 'gas_engry_us_' + '2014'+i\n",
    "        gas2 = 'gas_engry_us_' + '2015'+i\n",
    "        gas3 = 'gas_engry_us_' + '2016'+i\n",
    "        gas4 = 'gas_engry_us_' + '2017'+i\n",
    "        gas5 = 'gas_engry_us_' + '2018'+i\n",
    "\n",
    "        g_mean = 'g_mean' + '_' + i\n",
    "        e_mean = 'e_mean' + '_' + i\n",
    "        g_median = 'g_median' + '_' + i\n",
    "        e_median = 'e_median' + '_' + i\n",
    "        g_std = 'g_std' + '_' + i\n",
    "        e_std = 'e_std' + '_' + i\n",
    "        g_max = 'g_max' + '_' + i\n",
    "        e_max = 'e_max' + '_' + i\n",
    "        g_min = 'g_min' + '_' + i\n",
    "        e_min = 'e_min' + '_' + i\n",
    "        \n",
    "        data[g_mean] = data[[gas1,gas2,gas3,gas4,gas5]].mean(axis=1)\n",
    "        data[e_mean] = data[[ele1,ele2,ele3,ele4,ele5]].mean(axis=1)\n",
    "        data[g_median] =data[[gas1,gas2,gas3,gas4,gas5]].median(axis=1)\n",
    "        data[e_median] = data[[ele1,ele2,ele3,ele4,ele5]].median(axis=1) \n",
    "        data[g_std] = data[[gas1,gas2,gas3,gas4,gas5]].std(axis=1)\n",
    "        data[e_std] = data[[ele1,ele2,ele3,ele4,ele5]].std(axis=1)\n",
    "        data[g_max] = data[[gas1,gas2,gas3,gas4,gas5]].max(axis=1)\n",
    "        data[e_max] = data[[ele1,ele2,ele3,ele4,ele5]].max(axis=1)\n",
    "        data[g_min] = data[[gas1,gas2,gas3,gas4,gas5]].min(axis=1)\n",
    "        data[e_min] = data[[ele1,ele2,ele3,ele4,ele5]].min(axis=1)\n",
    "    return data"
   ]
  },
  {
   "cell_type": "code",
   "execution_count": 12,
   "metadata": {},
   "outputs": [],
   "source": [
    "train = energy_mean(train)\n",
    "valid = energy_mean(valid)\n",
    "test = energy_mean(test)"
   ]
  },
  {
   "cell_type": "code",
   "execution_count": 13,
   "metadata": {},
   "outputs": [],
   "source": [
    "# 전기, 가스 사용량의 상한-하한\n",
    "def energy_variate(data):\n",
    "    for i in ['01','02','03','04','05','06','07','08','09','10','11','12']:\n",
    "        ele1 = 'ele_engry_us_' + '2014'+ i\n",
    "        ele2 = 'ele_engry_us_' + '2015'+i\n",
    "        ele3 = 'ele_engry_us_' + '2016'+i\n",
    "        ele4 = 'ele_engry_us_' + '2017'+i\n",
    "        ele5 ='ele_engry_us_' + '2018'+ i\n",
    "        \n",
    "        gas1 = 'gas_engry_us_' + '2014'+i\n",
    "        gas2 = 'gas_engry_us_' + '2015'+i\n",
    "        gas3 = 'gas_engry_us_' + '2016'+i\n",
    "        gas4 = 'gas_engry_us_' + '2017'+i\n",
    "        gas5 = 'gas_engry_us_' + '2018'+i\n",
    "        \n",
    "        g_mean = 'g_mean' + '_' + i\n",
    "        e_mean = 'e_mean' + '_' + i\n",
    "        \n",
    "        data[g_mean] = data[[gas1,gas2,gas3,gas4,gas5]].mean(axis=1)\n",
    "        data[e_mean] = data[[ele1,ele2,ele3,ele4,ele5]].mean(axis=1)\n",
    "        \n",
    "        data['g_va'] = (data[[gas1,gas2,gas3,gas4,gas5]].max(axis=1) - data[[gas1,gas2,gas3,gas4,gas5]].min(axis=1)) /\\\n",
    "        data[[gas1,gas2,gas3,gas4,gas5]].max(axis=1)\n",
    "        \n",
    "        data['e_va'] = (data[[ele1,ele2,ele3,ele4,ele5]].max(axis=1)- data[[ele1,ele2,ele3,ele4,ele5]].min(axis=1))/\\\n",
    "        data[[ele1,ele2,ele3,ele4,ele5]].max(axis=1)\n",
    "\n",
    "    return data"
   ]
  },
  {
   "cell_type": "code",
   "execution_count": 14,
   "metadata": {},
   "outputs": [],
   "source": [
    "train = energy_variate(train)\n",
    "valid = energy_variate(valid)\n",
    "test = energy_variate(test)"
   ]
  },
  {
   "cell_type": "code",
   "execution_count": 15,
   "metadata": {},
   "outputs": [],
   "source": [
    "from time import time\n",
    "import datetime\n",
    "\n",
    "# 화재 난 날 에너지 사용, 화재 난 날 - 평년 에너지 사용\n",
    "\n",
    "def dday_energy(data):\n",
    "    data['month'] = np.where(data['month'].astype('int')<10, '0'+data['month'].astype('str'), data['month'].astype('str'))\n",
    "    data['gas_date'] = 'gas_engry_us_' + data['year'].astype('str') + data['month']\n",
    "    data['ele_date'] = 'ele_engry_us_' + data['year'].astype('str') + data['month']\n",
    "    data['gas_dday'] = 0\n",
    "    data['ele_dday'] = 0\n",
    "    data['ele_diff'] = 0\n",
    "    data['gas_diff'] = 0\n",
    "    \n",
    "    for col in ele_col:\n",
    "        data.loc[data['ele_date']== col,'ele_dday']= \\\n",
    "        data[data['ele_date']== col][col]\n",
    "        \n",
    "    for col in data['month'].unique():\n",
    "        data.loc[data['month']== col,'ele_diff']= \\\n",
    "        data['ele_dday'] - data['e_mean_' + col]\n",
    "        \n",
    "    for col in gas_col:\n",
    "        data.loc[data['gas_date']== col,'gas_dday']= \\\n",
    "        data[data['gas_date']== col][col]\n",
    "        \n",
    "    for col in data['month'].unique():\n",
    "        data.loc[data['month']== col,'gas_diff']= \\\n",
    "        data['gas_dday'] - data['g_mean_' + col]\n",
    "\n",
    "    return data"
   ]
  },
  {
   "cell_type": "code",
   "execution_count": 16,
   "metadata": {},
   "outputs": [],
   "source": [
    "train = dday_energy(train)\n",
    "valid = dday_energy(valid)\n",
    "test = dday_energy(test)"
   ]
  },
  {
   "cell_type": "code",
   "execution_count": 17,
   "metadata": {},
   "outputs": [],
   "source": [
    "# 건물연면적을 지상,지하로 나눔\n",
    "def flr_ar(data):\n",
    "    data['grnd_ar'] = data['bldng_ar'] * data['ttl_grnd_flr']\n",
    "    data['dwn_ar'] = data['bldng_ar'] * data['ttl_dwn_flr']\n",
    "    return data\n",
    "\n",
    "#def ar_per_bldng(data):\n",
    "#    data['bldng_1_ar'] = data['bldng_ar'] / data['bldng_cnt']\n",
    "#    return data"
   ]
  },
  {
   "cell_type": "code",
   "execution_count": 18,
   "metadata": {},
   "outputs": [],
   "source": [
    "train = flr_ar(train)\n",
    "valid = flr_ar(valid)\n",
    "test = flr_ar(test)"
   ]
  },
  {
   "cell_type": "code",
   "execution_count": 19,
   "metadata": {},
   "outputs": [],
   "source": [
    "# 필요 없어진 컬럼 제거\n",
    "train = train.drop(gas_col + ele_col, axis=1)\n",
    "valid = valid.drop(gas_col + ele_col, axis=1)\n",
    "test = test.drop(gas_col + ele_col, axis=1)\n",
    "\n",
    "train = train.drop(['ele_date','gas_date'], axis=1)\n",
    "valid = valid.drop(['ele_date','gas_date'], axis=1)\n",
    "test = test.drop(['ele_date','gas_date'], axis=1)"
   ]
  },
  {
   "cell_type": "code",
   "execution_count": null,
   "metadata": {},
   "outputs": [],
   "source": [
    "train.to_csv('train_pre.csv', index=False)\n",
    "valid.to_csv('valid_pre.csv', index=False)\n",
    "test.to_csv('test_pre.csv', index=False)"
   ]
  }
 ],
 "metadata": {
  "kernelspec": {
   "display_name": "Python 3",
   "language": "python",
   "name": "python3"
  },
  "language_info": {
   "codemirror_mode": {
    "name": "ipython",
    "version": 3
   },
   "file_extension": ".py",
   "mimetype": "text/x-python",
   "name": "python",
   "nbconvert_exporter": "python",
   "pygments_lexer": "ipython3",
   "version": "3.7.3"
  }
 },
 "nbformat": 4,
 "nbformat_minor": 2
}

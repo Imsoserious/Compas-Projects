{
 "cells": [
  {
   "cell_type": "code",
   "execution_count": 1,
   "metadata": {},
   "outputs": [
    {
     "name": "stdout",
     "output_type": "stream",
     "text": [
      "Requirement already satisfied: Bayesian-Optimization in c:\\users\\samsung\\anaconda3\\lib\\site-packages (1.0.1)\n",
      "Requirement already satisfied: scipy>=0.14.0 in c:\\users\\samsung\\anaconda3\\lib\\site-packages (from Bayesian-Optimization) (1.2.1)\n",
      "Requirement already satisfied: scikit-learn>=0.18.0 in c:\\users\\samsung\\anaconda3\\lib\\site-packages (from Bayesian-Optimization) (0.20.3)\n",
      "Requirement already satisfied: numpy>=1.9.0 in c:\\users\\samsung\\anaconda3\\lib\\site-packages (from Bayesian-Optimization) (1.16.2)\n"
     ]
    }
   ],
   "source": [
    "!pip install Bayesian-Optimization"
   ]
  },
  {
   "cell_type": "code",
   "execution_count": 2,
   "metadata": {},
   "outputs": [],
   "source": [
    "import pandas as pd\n",
    "import numpy as np\n",
    "import matplotlib.pyplot as plt\n",
    "import lightgbm as lgb\n",
    "import seaborn as sns\n",
    "from tqdm import tqdm_notebook\n",
    "from sklearn.preprocessing import LabelEncoder\n",
    "from bayes_opt import BayesianOptimization\n",
    "from sklearn.model_selection import KFold, StratifiedKFold, StratifiedShuffleSplit"
   ]
  },
  {
   "cell_type": "code",
   "execution_count": 9,
   "metadata": {},
   "outputs": [],
   "source": [
    "train = pd.read_csv('./train_pre3.csv')\n",
    "test = pd.read_csv('./test_pre3.csv')\n",
    "valid = pd.read_csv('./valid_pre3.csv')"
   ]
  },
  {
   "cell_type": "markdown",
   "metadata": {},
   "source": [
    "### f1 score 정의"
   ]
  },
  {
   "cell_type": "code",
   "execution_count": 10,
   "metadata": {},
   "outputs": [],
   "source": [
    "from sklearn.metrics import f1_score\n",
    "# lgbm은 f1 score를 제공하지 않으므로 새로 정의\n",
    "def lgb_f1_score(y_hat, data):\n",
    "    y_true = data.get_label().astype(int)\n",
    "    y_hat = np.round(y_hat).astype(int) # 실수 예측값을 반올림하여 1,0으로 변경\n",
    "    return 'f1', f1_score(y_true, y_hat), True"
   ]
  },
  {
   "cell_type": "markdown",
   "metadata": {},
   "source": [
    "### 모델링 준비"
   ]
  },
  {
   "cell_type": "code",
   "execution_count": 11,
   "metadata": {},
   "outputs": [
    {
     "data": {
      "application/vnd.jupyter.widget-view+json": {
       "model_id": "4c5d5c66929240d49c0e659bd1aff7e7",
       "version_major": 2,
       "version_minor": 0
      },
      "text/plain": [
       "HBox(children=(IntProgress(value=0, max=191), HTML(value='')))"
      ]
     },
     "metadata": {},
     "output_type": "display_data"
    },
    {
     "name": "stdout",
     "output_type": "stream",
     "text": [
      "\n"
     ]
    }
   ],
   "source": [
    "# 변수 선택\n",
    "input_var = list(set(train.columns) - set(['id','dt_of_fr','year','fr_yn']))\n",
    "target = ['fr_yn']\n",
    "\n",
    "# 카테고리 컬럼 정의\n",
    "cat_col = []\n",
    "for col in train[input_var].columns:\n",
    "    if (train[col].dtype == 'object'):\n",
    "        cat_col.append(col)\n",
    "    \n",
    "cat_col = cat_col + ['month','hour','weekday','wnd_drctn']\n",
    "\n",
    "for col in tqdm_notebook(train.columns): \n",
    "    if col in cat_col:\n",
    "        le = LabelEncoder()\n",
    "        le.fit(list(train[col].astype(str).values) + list(valid[col].astype(str).values)+ list(test[col].astype(str).values))\n",
    "        train[col] = le.transform(list(train[col].astype(str).values))\n",
    "        valid[col] = le.transform(list(valid[col].astype(str).values))\n",
    "        test[col] = le.transform(list(test[col].astype(str).values))\n",
    "        \n",
    "# 카테고리 컬럼은 lgbm이 인식하도록 category 타입으로 변경\n",
    "for i in enumerate (cat_col) : \n",
    "    ca = i[1] \n",
    "    train[ca] = train[ca].astype('category') \n",
    "    valid[ca] = valid[ca].astype('category') \n",
    "    test[ca] = test[ca].astype('category') \n",
    "\n",
    "# 훈련, 검증할 데이터 셋\n",
    "X_train = train[input_var]\n",
    "y_train = train['fr_yn']\n",
    "\n",
    "X_valid = valid[input_var]\n",
    "y_valid = valid['fr_yn']"
   ]
  },
  {
   "cell_type": "markdown",
   "metadata": {},
   "source": [
    "### Bayesian Optimization\n",
    "\n",
    "- valid를 k등분하여 교차검증 실시(dtrain = train + valid*(k-1/k) )"
   ]
  },
  {
   "cell_type": "code",
   "execution_count": null,
   "metadata": {},
   "outputs": [],
   "source": [
    "from bayes_opt import BayesianOptimization\n",
    "from sklearn.model_selection import KFold, StratifiedKFold, StratifiedShuffleSplit\n",
    "\n",
    "def LGB_bayesian(\n",
    "    num_leaves, \n",
    "    bagging_freq,\n",
    "    feature_fraction,\n",
    "    min_child_weight, \n",
    "    min_data_in_leaf,\n",
    "    max_depth,\n",
    "    reg_alpha,\n",
    "    reg_lambda,\n",
    "    learning_rate,\n",
    "    neg_bagging_fraction,\n",
    "    pos_bagging_fraction,\n",
    "     ):\n",
    "    \n",
    "    # LightGBM expects next three parameters need to be integer. \n",
    "    \n",
    "    num_leaves = int(num_leaves)\n",
    "    bagging_freq = int(bagging_freq)\n",
    "    min_data_in_leaf = int(min_data_in_leaf)\n",
    "    max_depth = int(max_depth)\n",
    "\n",
    "    assert type(num_leaves) == int\n",
    "    assert type(bagging_freq) == int\n",
    "    assert type(min_data_in_leaf) == int\n",
    "    assert type(max_depth) == int\n",
    "    \n",
    "\n",
    "    param = {\n",
    "              'num_leaves': int(round(num_leaves)), \n",
    "              'min_data_in_leaf': int(round(min_data_in_leaf)),\n",
    "              'min_child_weight': min_child_weight,\n",
    "              'bagging_freq' : int(round(bagging_freq)),\n",
    "              'feature_fraction' : feature_fraction,\n",
    "              'learning_rate' : learning_rate,\n",
    "              'max_depth': int(round(max_depth)),\n",
    "              'reg_alpha': reg_alpha,\n",
    "              'reg_lambda': reg_lambda,\n",
    "              #'subsample_freq ': subsample_freq,\n",
    "              'pos_bagging_fraction':pos_bagging_fraction,\n",
    "              'neg_bagging_fraction':neg_bagging_fraction,        \n",
    "              'objective': 'binary',\n",
    "              'use_missing': True,\n",
    "              'n_estimators': 1000000,\n",
    "              'save_binary': True,\n",
    "              'seed': 42,\n",
    "              'feature_fraction_seed': 42,\n",
    "              'bagging_seed': 42,\n",
    "              'drop_seed': 42,\n",
    "              'data_random_seed': 42,\n",
    "              'boosting_type': 'gbdt',\n",
    "              'verbose': 1,\n",
    "              'is_unbalance': True,\n",
    "              'boost_from_average': True,\n",
    "              'metric':'None'}   \n",
    "\n",
    "    cv_results = []          \n",
    "    n_splits = 10\n",
    "    split = StratifiedKFold(n_splits=n_splits, shuffle=False ,random_state=42)\n",
    "    split.get_n_splits(X_valid, y_valid)\n",
    "\n",
    "    for train_index, test_index in split.split(X_valid, y_valid):\n",
    "      X1_valid, X2_valid = X_valid.iloc[train_index], X_valid.iloc[test_index]\n",
    "      y1_valid, y2_valid = y_valid[train_index], y_valid[test_index]\n",
    "\n",
    "      X2_train = pd.concat([X_train, X1_valid], axis=0)\n",
    "      y2_train = pd.concat([y_train, y1_valid], axis=0)\n",
    "\n",
    "      for i in enumerate (cat_col2) : \n",
    "        ca = i[1] \n",
    "        X2_train[ca] = X2_train[ca].astype('category') \n",
    "  \n",
    "      dtrain = lgb.Dataset(X2_train, label=y2_train)\n",
    "      dvalid = lgb.Dataset(X2_valid, label=y2_valid)\n",
    "\n",
    "      cv_result = lgb.train(param, dtrain,  valid_sets = [dtrain, dvalid], verbose_eval =1000, feval= lgb_f1_score,\n",
    "                            categorical_feature= cat_col2, early_stopping_rounds = 500)\n",
    "      cv_results.append(cv_result.best_score['valid_1']['f1'])   \n",
    "\n",
    "    return np.mean(cv_results)"
   ]
  },
  {
   "cell_type": "markdown",
   "metadata": {},
   "source": [
    "### Paramater\n",
    "- 최종 파라미터"
   ]
  },
  {
   "cell_type": "code",
   "execution_count": 12,
   "metadata": {},
   "outputs": [],
   "source": [
    "params = {\n",
    " 'bagging_freq': 13,\n",
    " 'feature_fraction': 0.5546,\n",
    " 'learning_rate': 0.009532,\n",
    " 'max_depth': 74,\n",
    " 'min_child_weight': 0.02659,\n",
    " 'min_data_in_leaf': 56,\n",
    " 'neg_bagging_fraction': 0.9729,\n",
    " 'num_leaves': 198,\n",
    " 'pos_bagging_fraction': 0.892,\n",
    " 'reg_alpha': 3.156,\n",
    " 'reg_lambda': 3.974,\n",
    " 'objective': 'binary',\n",
    " 'use_missing': True,\n",
    " 'n_estimators': 10000,\n",
    " 'save_binary': True,\n",
    " 'seed': 42,\n",
    " 'feature_fraction_seed': 42,\n",
    " 'bagging_seed': 42,\n",
    " 'drop_seed': 42,\n",
    " 'data_random_seed': 42,\n",
    " 'boosting_type': 'gbdt',\n",
    " 'verbose': 1,\n",
    " 'is_unbalance': True,\n",
    " 'boost_from_average': True,\n",
    " 'metric':'None'}"
   ]
  },
  {
   "cell_type": "code",
   "execution_count": 16,
   "metadata": {},
   "outputs": [
    {
     "name": "stdout",
     "output_type": "stream",
     "text": [
      "Training until validation scores don't improve for 100 rounds\n",
      "[50]\ttraining's f1: 0\tvalid_1's f1: 0\n",
      "[100]\ttraining's f1: 0.572484\tvalid_1's f1: 0.5\n",
      "[150]\ttraining's f1: 0.622627\tvalid_1's f1: 0.482574\n",
      "Early stopping, best iteration is:\n",
      "[83]\ttraining's f1: 0.473218\tvalid_1's f1: 0.528139\n",
      "Training until validation scores don't improve for 100 rounds\n",
      "[50]\ttraining's f1: 0\tvalid_1's f1: 0\n",
      "[100]\ttraining's f1: 0.571479\tvalid_1's f1: 0.510204\n",
      "[150]\ttraining's f1: 0.621335\tvalid_1's f1: 0.504021\n",
      "[200]\ttraining's f1: 0.629686\tvalid_1's f1: 0.483951\n",
      "Early stopping, best iteration is:\n",
      "[101]\ttraining's f1: 0.57556\tvalid_1's f1: 0.513514\n",
      "Training until validation scores don't improve for 100 rounds\n",
      "[50]\ttraining's f1: 0\tvalid_1's f1: 0\n",
      "[100]\ttraining's f1: 0.572385\tvalid_1's f1: 0.505051\n",
      "[150]\ttraining's f1: 0.623513\tvalid_1's f1: 0.466488\n",
      "Early stopping, best iteration is:\n",
      "[83]\ttraining's f1: 0.474674\tvalid_1's f1: 0.543103\n",
      "Training until validation scores don't improve for 100 rounds\n",
      "[50]\ttraining's f1: 0\tvalid_1's f1: 0\n",
      "[100]\ttraining's f1: 0.572451\tvalid_1's f1: 0.498403\n",
      "[150]\ttraining's f1: 0.621859\tvalid_1's f1: 0.485788\n",
      "Early stopping, best iteration is:\n",
      "[96]\ttraining's f1: 0.556084\tvalid_1's f1: 0.518519\n",
      "Training until validation scores don't improve for 100 rounds\n",
      "[50]\ttraining's f1: 0\tvalid_1's f1: 0\n",
      "[100]\ttraining's f1: 0.573573\tvalid_1's f1: 0.533333\n",
      "[150]\ttraining's f1: 0.621219\tvalid_1's f1: 0.531792\n",
      "[200]\ttraining's f1: 0.629261\tvalid_1's f1: 0.503979\n",
      "Early stopping, best iteration is:\n",
      "[103]\ttraining's f1: 0.581892\tvalid_1's f1: 0.548872\n",
      "Training until validation scores don't improve for 100 rounds\n",
      "[50]\ttraining's f1: 0\tvalid_1's f1: 0\n",
      "[100]\ttraining's f1: 0.571663\tvalid_1's f1: 0.510638\n",
      "[150]\ttraining's f1: 0.621273\tvalid_1's f1: 0.50411\n",
      "[200]\ttraining's f1: 0.627526\tvalid_1's f1: 0.485\n",
      "Early stopping, best iteration is:\n",
      "[139]\ttraining's f1: 0.61939\tvalid_1's f1: 0.515581\n",
      "Training until validation scores don't improve for 100 rounds\n",
      "[50]\ttraining's f1: 0\tvalid_1's f1: 0\n",
      "[100]\ttraining's f1: 0.572066\tvalid_1's f1: 0.496503\n",
      "[150]\ttraining's f1: 0.622814\tvalid_1's f1: 0.49863\n",
      "[200]\ttraining's f1: 0.62766\tvalid_1's f1: 0.483951\n",
      "Early stopping, best iteration is:\n",
      "[110]\ttraining's f1: 0.598326\tvalid_1's f1: 0.535484\n",
      "Training until validation scores don't improve for 100 rounds\n",
      "[50]\ttraining's f1: 0\tvalid_1's f1: 0\n",
      "[100]\ttraining's f1: 0.571782\tvalid_1's f1: 0.546816\n",
      "[150]\ttraining's f1: 0.621964\tvalid_1's f1: 0.550143\n",
      "[200]\ttraining's f1: 0.628716\tvalid_1's f1: 0.539683\n",
      "Early stopping, best iteration is:\n",
      "[110]\ttraining's f1: 0.59718\tvalid_1's f1: 0.594406\n",
      "Training until validation scores don't improve for 100 rounds\n",
      "[50]\ttraining's f1: 0\tvalid_1's f1: 0\n",
      "[100]\ttraining's f1: 0.573053\tvalid_1's f1: 0.48227\n",
      "[150]\ttraining's f1: 0.621548\tvalid_1's f1: 0.459893\n",
      "[200]\ttraining's f1: 0.628594\tvalid_1's f1: 0.465228\n",
      "Early stopping, best iteration is:\n",
      "[111]\ttraining's f1: 0.599698\tvalid_1's f1: 0.5\n",
      "Training until validation scores don't improve for 100 rounds\n",
      "[50]\ttraining's f1: 0\tvalid_1's f1: 0\n",
      "[100]\ttraining's f1: 0.572249\tvalid_1's f1: 0.546667\n",
      "[150]\ttraining's f1: 0.620566\tvalid_1's f1: 0.505495\n",
      "Early stopping, best iteration is:\n",
      "[89]\ttraining's f1: 0.518103\tvalid_1's f1: 0.559701\n",
      "CV mean 0.5357317883352108, CV std 0.02602818963500973\n"
     ]
    }
   ],
   "source": [
    "import warnings\n",
    "warnings.filterwarnings(\"ignore\")\n",
    "submission = pd.read_csv('./PJT002_submission.csv')\n",
    "submission['fr_yn'] = 0\n",
    "X_train = train[input_var]\n",
    "y_train = train['fr_yn']\n",
    "\n",
    "X_valid = valid[input_var]\n",
    "y_valid = valid['fr_yn']\n",
    "\n",
    "CV= []\n",
    "n_splits = 10 # k가 너무 크면 각 fold별로 예측값의 변동이 너무 커진다는 문제가 있다.\n",
    "\n",
    "split = StratifiedKFold(n_splits=n_splits, shuffle=True ,random_state=42)\n",
    "split.get_n_splits(X_valid, y_valid)\n",
    "for train_index, test_index in split.split(X_valid, y_valid):\n",
    "    X1_valid, X2_valid = X_valid.iloc[train_index], X_valid.iloc[test_index]\n",
    "    y1_valid, y2_valid = y_valid[train_index], y_valid[test_index]\n",
    "\n",
    "    X2_train = pd.concat([X_train, X1_valid], axis=0)\n",
    "    y2_train = pd.concat([y_train, y1_valid], axis=0)\n",
    "\n",
    "    for i in enumerate (cat_col) : \n",
    "      ca = i[1] \n",
    "      X2_train[ca] = X2_train[ca].astype('category') \n",
    "\n",
    "    dtrain = lgb.Dataset(X2_train, label=y2_train)\n",
    "    dvalid = lgb.Dataset(X2_valid, label=y2_valid)\n",
    "    model = lgb.train(params, dtrain, valid_sets=[dtrain, dvalid], feval= lgb_f1_score,\n",
    "                        verbose_eval=50, early_stopping_rounds=100,\n",
    "                        categorical_feature = cat_col)\n",
    "    CV.append(model.best_score['valid_1']['f1'])\n",
    "    # predict\n",
    "    submission['fr_yn'] += model.predict(test[input_var])\n",
    "submission['fr_yn'] = submission['fr_yn'] / n_splits\n",
    "print('CV mean {}, CV std {}'.format(np.mean(CV), np.std(CV)))"
   ]
  },
  {
   "cell_type": "code",
   "execution_count": 17,
   "metadata": {},
   "outputs": [
    {
     "data": {
      "text/plain": [
       "<matplotlib.axes._subplots.AxesSubplot at 0x290377a0dd8>"
      ]
     },
     "execution_count": 17,
     "metadata": {},
     "output_type": "execute_result"
    },
    {
     "data": {
      "image/png": "[encoded data removed]",
      "text/plain": [
       "<Figure size 432x288 with 1 Axes>"
      ]
     },
     "metadata": {
      "needs_background": "light"
     },
     "output_type": "display_data"
    }
   ],
   "source": [
    "# 타겟 분포 확인\n",
    "submission['fr_yn'].hist()"
   ]
  },
  {
   "cell_type": "code",
   "execution_count": 18,
   "metadata": {},
   "outputs": [],
   "source": [
    "submission['fr_yn'] = np.where(submission['fr_yn']>=0.5, 'Y', 'N')\n",
    "#submission.to_csv('./ajk2000000_화재예측과제_Submission.csv', index=False)"
   ]
  },
  {
   "cell_type": "code",
   "execution_count": 21,
   "metadata": {},
   "outputs": [
    {
     "data": {
      "text/plain": [
       "<matplotlib.axes._subplots.AxesSubplot at 0x29001810f28>"
      ]
     },
     "execution_count": 21,
     "metadata": {},
     "output_type": "execute_result"
    },
    {
     "data": {
      "image/png": "[encoded data removed]",
      "text/plain": [
       "<Figure size 432x288 with 1 Axes>"
      ]
     },
     "metadata": {
      "needs_background": "light"
     },
     "output_type": "display_data"
    }
   ],
   "source": [
    "# str 타입은 hist 찍으면 시간이 매우 오래 걸리므로 다시 int형으로 변경\n",
    "submission['fr_yn2'] = np.where(submission['fr_yn']=='Y', 1, 0)\n",
    "submission['fr_yn2'].hist()"
   ]
  },
  {
   "cell_type": "markdown",
   "metadata": {},
   "source": [
    "### 결론\n",
    "\n",
    "- 최종점수: 리더보드에는 0.5184 기록(최종 16위/351)\n",
    "- 아쉬운 점: 대회에 늦게 참가하여, 결측치 처리나 변수 생성에 엉성한 점이 많았다.\n",
    "\n",
    "     1)  결측치 처리: 군집화를 통해서 결측치 처리도 가능할 것 같다.\n",
    "     \n",
    "     2) 변수 생성: 화재를 고려해 건물 및 토지 용도에 따라 용적률과 건폐율 등의 개념을 사용하는데 이런 것들을 변수로 넣었으면 더 좋지 않을까 한다. \n",
    "     \n",
    "     3) 시계열 데이터: 시계열 데이터의 특징을 가장 잘 뽑는 방법이 무엇일지, 계속되는 고민이다."
   ]
  },
  {
   "cell_type": "code",
   "execution_count": null,
   "metadata": {},
   "outputs": [],
   "source": []
  }
 ],
 "metadata": {
  "kernelspec": {
   "display_name": "Python 3",
   "language": "python",
   "name": "python3"
  },
  "language_info": {
   "codemirror_mode": {
    "name": "ipython",
    "version": 3
   },
   "file_extension": ".py",
   "mimetype": "text/x-python",
   "name": "python",
   "nbconvert_exporter": "python",
   "pygments_lexer": "ipython3",
   "version": "3.7.3"
  }
 },
 "nbformat": 4,
 "nbformat_minor": 2
}
